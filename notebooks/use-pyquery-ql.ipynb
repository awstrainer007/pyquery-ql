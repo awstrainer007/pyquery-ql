{
 "cells": [
  {
   "cell_type": "markdown",
   "metadata": {},
   "source": [
    "# Use pyquery-ql.py\n",
    "\n",
    "Send a graphql query to GitHub\n",
    "and pretty print output.\n",
    "\n",
    "Supports Python 3.6+"
   ]
  },
  {
   "cell_type": "code",
   "execution_count": 1,
   "metadata": {},
   "outputs": [],
   "source": [
    "import json\n",
    "import os\n",
    "import pprint\n",
    "\n",
    "import requests"
   ]
  },
  {
   "cell_type": "code",
   "execution_count": 2,
   "metadata": {},
   "outputs": [],
   "source": [
    "# get api token and set authorization\n",
    "api_token = os.environ['GITHUB_API_TOKEN']\n",
    "headers = {'Authorization': f'token {api_token}'}"
   ]
  },
  {
   "cell_type": "code",
   "execution_count": 3,
   "metadata": {},
   "outputs": [],
   "source": [
    "# set url to a graphql endpoint\n",
    "url = 'https://api.github.com/graphql'"
   ]
  },
  {
   "cell_type": "code",
   "execution_count": 4,
   "metadata": {},
   "outputs": [],
   "source": [
    "# add a json query\n",
    "query = \"\"\"\n",
    "{\n",
    "  organization(login: \"jupyterhub\") {\n",
    "    repositories(first: 30) {\n",
    "      totalCount\n",
    "      edges {\n",
    "        node {\n",
    "          name\n",
    "          url\n",
    "          issues(states: OPEN) {\n",
    "            totalCount\n",
    "          }\n",
    "          pullRequests(states: OPEN) {\n",
    "            totalCount\n",
    "          }\n",
    "        }\n",
    "      }\n",
    "    }\n",
    "  }\n",
    "}\n",
    "\"\"\""
   ]
  },
  {
   "cell_type": "code",
   "execution_count": 5,
   "metadata": {},
   "outputs": [],
   "source": [
    "# submit the request\n",
    "r = requests.post(url=url, json={'query': query}, headers=headers)"
   ]
  },
  {
   "cell_type": "code",
   "execution_count": 6,
   "metadata": {},
   "outputs": [
    {
     "data": {
      "text/plain": [
       "{'data': {'organization': {'repositories': {'edges': [{'node': {'issues': {'totalCount': 141},\n",
       "       'name': 'jupyterhub',\n",
       "       'pullRequests': {'totalCount': 6},\n",
       "       'url': 'https://github.com/jupyterhub/jupyterhub'}},\n",
       "     {'node': {'issues': {'totalCount': 11},\n",
       "       'name': 'configurable-http-proxy',\n",
       "       'pullRequests': {'totalCount': 0},\n",
       "       'url': 'https://github.com/jupyterhub/configurable-http-proxy'}},\n",
       "     {'node': {'issues': {'totalCount': 13},\n",
       "       'name': 'oauthenticator',\n",
       "       'pullRequests': {'totalCount': 2},\n",
       "       'url': 'https://github.com/jupyterhub/oauthenticator'}},\n",
       "     {'node': {'issues': {'totalCount': 22},\n",
       "       'name': 'dockerspawner',\n",
       "       'pullRequests': {'totalCount': 1},\n",
       "       'url': 'https://github.com/jupyterhub/dockerspawner'}},\n",
       "     {'node': {'issues': {'totalCount': 2},\n",
       "       'name': 'sudospawner',\n",
       "       'pullRequests': {'totalCount': 0},\n",
       "       'url': 'https://github.com/jupyterhub/sudospawner'}},\n",
       "     {'node': {'issues': {'totalCount': 12},\n",
       "       'name': 'batchspawner',\n",
       "       'pullRequests': {'totalCount': 5},\n",
       "       'url': 'https://github.com/jupyterhub/batchspawner'}},\n",
       "     {'node': {'issues': {'totalCount': 25},\n",
       "       'name': 'kubespawner',\n",
       "       'pullRequests': {'totalCount': 3},\n",
       "       'url': 'https://github.com/jupyterhub/kubespawner'}},\n",
       "     {'node': {'issues': {'totalCount': 18},\n",
       "       'name': 'ldapauthenticator',\n",
       "       'pullRequests': {'totalCount': 2},\n",
       "       'url': 'https://github.com/jupyterhub/ldapauthenticator'}},\n",
       "     {'node': {'issues': {'totalCount': 9},\n",
       "       'name': 'jupyterhub-deploy-docker',\n",
       "       'pullRequests': {'totalCount': 1},\n",
       "       'url': 'https://github.com/jupyterhub/jupyterhub-deploy-docker'}},\n",
       "     {'node': {'issues': {'totalCount': 13},\n",
       "       'name': 'jupyterhub-deploy-teaching',\n",
       "       'pullRequests': {'totalCount': 2},\n",
       "       'url': 'https://github.com/jupyterhub/jupyterhub-deploy-teaching'}},\n",
       "     {'node': {'issues': {'totalCount': 5},\n",
       "       'name': 'jupyterhub-tutorial',\n",
       "       'pullRequests': {'totalCount': 0},\n",
       "       'url': 'https://github.com/jupyterhub/jupyterhub-tutorial'}},\n",
       "     {'node': {'issues': {'totalCount': 2},\n",
       "       'name': 'jupyterhub-deploy-hpc',\n",
       "       'pullRequests': {'totalCount': 0},\n",
       "       'url': 'https://github.com/jupyterhub/jupyterhub-deploy-hpc'}},\n",
       "     {'node': {'issues': {'totalCount': 4},\n",
       "       'name': 'systemdspawner',\n",
       "       'pullRequests': {'totalCount': 2},\n",
       "       'url': 'https://github.com/jupyterhub/systemdspawner'}},\n",
       "     {'node': {'issues': {'totalCount': 5},\n",
       "       'name': 'wrapspawner',\n",
       "       'pullRequests': {'totalCount': 1},\n",
       "       'url': 'https://github.com/jupyterhub/wrapspawner'}},\n",
       "     {'node': {'issues': {'totalCount': 4},\n",
       "       'name': 'jupyterlab-hub',\n",
       "       'pullRequests': {'totalCount': 0},\n",
       "       'url': 'https://github.com/jupyterhub/jupyterlab-hub'}},\n",
       "     {'node': {'issues': {'totalCount': 2},\n",
       "       'name': 'nbserverproxy',\n",
       "       'pullRequests': {'totalCount': 1},\n",
       "       'url': 'https://github.com/jupyterhub/nbserverproxy'}},\n",
       "     {'node': {'issues': {'totalCount': 3},\n",
       "       'name': 'jupyterhub-example-kerberos',\n",
       "       'pullRequests': {'totalCount': 0},\n",
       "       'url': 'https://github.com/jupyterhub/jupyterhub-example-kerberos'}},\n",
       "     {'node': {'issues': {'totalCount': 10},\n",
       "       'name': 'hubshare',\n",
       "       'pullRequests': {'totalCount': 0},\n",
       "       'url': 'https://github.com/jupyterhub/hubshare'}},\n",
       "     {'node': {'issues': {'totalCount': 4},\n",
       "       'name': 'nbrsessionproxy',\n",
       "       'pullRequests': {'totalCount': 2},\n",
       "       'url': 'https://github.com/jupyterhub/nbrsessionproxy'}},\n",
       "     {'node': {'issues': {'totalCount': 0},\n",
       "       'name': 'tmpauthenticator',\n",
       "       'pullRequests': {'totalCount': 0},\n",
       "       'url': 'https://github.com/jupyterhub/tmpauthenticator'}},\n",
       "     {'node': {'issues': {'totalCount': 89},\n",
       "       'name': 'zero-to-jupyterhub-k8s',\n",
       "       'pullRequests': {'totalCount': 3},\n",
       "       'url': 'https://github.com/jupyterhub/zero-to-jupyterhub-k8s'}},\n",
       "     {'node': {'issues': {'totalCount': 3},\n",
       "       'name': 'helm-chart',\n",
       "       'pullRequests': {'totalCount': 2},\n",
       "       'url': 'https://github.com/jupyterhub/helm-chart'}},\n",
       "     {'node': {'issues': {'totalCount': 79},\n",
       "       'name': 'binderhub',\n",
       "       'pullRequests': {'totalCount': 6},\n",
       "       'url': 'https://github.com/jupyterhub/binderhub'}},\n",
       "     {'node': {'issues': {'totalCount': 25},\n",
       "       'name': 'mybinder.org-deploy',\n",
       "       'pullRequests': {'totalCount': 1},\n",
       "       'url': 'https://github.com/jupyterhub/mybinder.org-deploy'}},\n",
       "     {'node': {'issues': {'totalCount': 9},\n",
       "       'name': 'binder',\n",
       "       'pullRequests': {'totalCount': 1},\n",
       "       'url': 'https://github.com/jupyterhub/binder'}},\n",
       "     {'node': {'issues': {'totalCount': 0},\n",
       "       'name': 'nullauthenticator',\n",
       "       'pullRequests': {'totalCount': 0},\n",
       "       'url': 'https://github.com/jupyterhub/nullauthenticator'}},\n",
       "     {'node': {'issues': {'totalCount': 2},\n",
       "       'name': 'team-compass',\n",
       "       'pullRequests': {'totalCount': 0},\n",
       "       'url': 'https://github.com/jupyterhub/team-compass'}}],\n",
       "    'totalCount': 27}}}}"
      ]
     },
     "execution_count": 6,
     "metadata": {},
     "output_type": "execute_result"
    }
   ],
   "source": [
    "r.json()"
   ]
  },
  {
   "cell_type": "code",
   "execution_count": 7,
   "metadata": {},
   "outputs": [
    {
     "data": {
      "text/plain": [
       "'{\"data\":{\"organization\":{\"repositories\":{\"totalCount\":27,\"edges\":[{\"node\":{\"name\":\"jupyterhub\",\"url\":\"https://github.com/jupyterhub/jupyterhub\",\"issues\":{\"totalCount\":141},\"pullRequests\":{\"totalCount\":6}}},{\"node\":{\"name\":\"configurable-http-proxy\",\"url\":\"https://github.com/jupyterhub/configurable-http-proxy\",\"issues\":{\"totalCount\":11},\"pullRequests\":{\"totalCount\":0}}},{\"node\":{\"name\":\"oauthenticator\",\"url\":\"https://github.com/jupyterhub/oauthenticator\",\"issues\":{\"totalCount\":13},\"pullRequests\":{\"totalCount\":2}}},{\"node\":{\"name\":\"dockerspawner\",\"url\":\"https://github.com/jupyterhub/dockerspawner\",\"issues\":{\"totalCount\":22},\"pullRequests\":{\"totalCount\":1}}},{\"node\":{\"name\":\"sudospawner\",\"url\":\"https://github.com/jupyterhub/sudospawner\",\"issues\":{\"totalCount\":2},\"pullRequests\":{\"totalCount\":0}}},{\"node\":{\"name\":\"batchspawner\",\"url\":\"https://github.com/jupyterhub/batchspawner\",\"issues\":{\"totalCount\":12},\"pullRequests\":{\"totalCount\":5}}},{\"node\":{\"name\":\"kubespawner\",\"url\":\"https://github.com/jupyterhub/kubespawner\",\"issues\":{\"totalCount\":25},\"pullRequests\":{\"totalCount\":3}}},{\"node\":{\"name\":\"ldapauthenticator\",\"url\":\"https://github.com/jupyterhub/ldapauthenticator\",\"issues\":{\"totalCount\":18},\"pullRequests\":{\"totalCount\":2}}},{\"node\":{\"name\":\"jupyterhub-deploy-docker\",\"url\":\"https://github.com/jupyterhub/jupyterhub-deploy-docker\",\"issues\":{\"totalCount\":9},\"pullRequests\":{\"totalCount\":1}}},{\"node\":{\"name\":\"jupyterhub-deploy-teaching\",\"url\":\"https://github.com/jupyterhub/jupyterhub-deploy-teaching\",\"issues\":{\"totalCount\":13},\"pullRequests\":{\"totalCount\":2}}},{\"node\":{\"name\":\"jupyterhub-tutorial\",\"url\":\"https://github.com/jupyterhub/jupyterhub-tutorial\",\"issues\":{\"totalCount\":5},\"pullRequests\":{\"totalCount\":0}}},{\"node\":{\"name\":\"jupyterhub-deploy-hpc\",\"url\":\"https://github.com/jupyterhub/jupyterhub-deploy-hpc\",\"issues\":{\"totalCount\":2},\"pullRequests\":{\"totalCount\":0}}},{\"node\":{\"name\":\"systemdspawner\",\"url\":\"https://github.com/jupyterhub/systemdspawner\",\"issues\":{\"totalCount\":4},\"pullRequests\":{\"totalCount\":2}}},{\"node\":{\"name\":\"wrapspawner\",\"url\":\"https://github.com/jupyterhub/wrapspawner\",\"issues\":{\"totalCount\":5},\"pullRequests\":{\"totalCount\":1}}},{\"node\":{\"name\":\"jupyterlab-hub\",\"url\":\"https://github.com/jupyterhub/jupyterlab-hub\",\"issues\":{\"totalCount\":4},\"pullRequests\":{\"totalCount\":0}}},{\"node\":{\"name\":\"nbserverproxy\",\"url\":\"https://github.com/jupyterhub/nbserverproxy\",\"issues\":{\"totalCount\":2},\"pullRequests\":{\"totalCount\":1}}},{\"node\":{\"name\":\"jupyterhub-example-kerberos\",\"url\":\"https://github.com/jupyterhub/jupyterhub-example-kerberos\",\"issues\":{\"totalCount\":3},\"pullRequests\":{\"totalCount\":0}}},{\"node\":{\"name\":\"hubshare\",\"url\":\"https://github.com/jupyterhub/hubshare\",\"issues\":{\"totalCount\":10},\"pullRequests\":{\"totalCount\":0}}},{\"node\":{\"name\":\"nbrsessionproxy\",\"url\":\"https://github.com/jupyterhub/nbrsessionproxy\",\"issues\":{\"totalCount\":4},\"pullRequests\":{\"totalCount\":2}}},{\"node\":{\"name\":\"tmpauthenticator\",\"url\":\"https://github.com/jupyterhub/tmpauthenticator\",\"issues\":{\"totalCount\":0},\"pullRequests\":{\"totalCount\":0}}},{\"node\":{\"name\":\"zero-to-jupyterhub-k8s\",\"url\":\"https://github.com/jupyterhub/zero-to-jupyterhub-k8s\",\"issues\":{\"totalCount\":89},\"pullRequests\":{\"totalCount\":3}}},{\"node\":{\"name\":\"helm-chart\",\"url\":\"https://github.com/jupyterhub/helm-chart\",\"issues\":{\"totalCount\":3},\"pullRequests\":{\"totalCount\":2}}},{\"node\":{\"name\":\"binderhub\",\"url\":\"https://github.com/jupyterhub/binderhub\",\"issues\":{\"totalCount\":79},\"pullRequests\":{\"totalCount\":6}}},{\"node\":{\"name\":\"mybinder.org-deploy\",\"url\":\"https://github.com/jupyterhub/mybinder.org-deploy\",\"issues\":{\"totalCount\":25},\"pullRequests\":{\"totalCount\":1}}},{\"node\":{\"name\":\"binder\",\"url\":\"https://github.com/jupyterhub/binder\",\"issues\":{\"totalCount\":9},\"pullRequests\":{\"totalCount\":1}}},{\"node\":{\"name\":\"nullauthenticator\",\"url\":\"https://github.com/jupyterhub/nullauthenticator\",\"issues\":{\"totalCount\":0},\"pullRequests\":{\"totalCount\":0}}},{\"node\":{\"name\":\"team-compass\",\"url\":\"https://github.com/jupyterhub/team-compass\",\"issues\":{\"totalCount\":2},\"pullRequests\":{\"totalCount\":0}}}]}}}}'"
      ]
     },
     "execution_count": 7,
     "metadata": {},
     "output_type": "execute_result"
    }
   ],
   "source": [
    "r.text"
   ]
  },
  {
   "cell_type": "code",
   "execution_count": 8,
   "metadata": {},
   "outputs": [],
   "source": [
    "data = json.loads(r.text)"
   ]
  },
  {
   "cell_type": "code",
   "execution_count": 9,
   "metadata": {},
   "outputs": [],
   "source": [
    "# pprint.pprint(data)"
   ]
  },
  {
   "cell_type": "markdown",
   "metadata": {},
   "source": [
    "Walk the JSON response contents"
   ]
  },
  {
   "cell_type": "code",
   "execution_count": 10,
   "metadata": {},
   "outputs": [],
   "source": [
    "issue_data = data['data']"
   ]
  },
  {
   "cell_type": "code",
   "execution_count": 11,
   "metadata": {},
   "outputs": [],
   "source": [
    "org = issue_data['organization']"
   ]
  },
  {
   "cell_type": "code",
   "execution_count": 12,
   "metadata": {},
   "outputs": [],
   "source": [
    "repos = org['repositories']"
   ]
  },
  {
   "cell_type": "code",
   "execution_count": 13,
   "metadata": {},
   "outputs": [],
   "source": [
    "edges = repos['edges']"
   ]
  },
  {
   "cell_type": "code",
   "execution_count": 14,
   "metadata": {},
   "outputs": [],
   "source": [
    "# edges[0]['node']"
   ]
  },
  {
   "cell_type": "code",
   "execution_count": 15,
   "metadata": {},
   "outputs": [],
   "source": [
    "# print(edges[0]['node']['name'] + '---' + edges[0]['node']['url'])"
   ]
  },
  {
   "cell_type": "code",
   "execution_count": 16,
   "metadata": {},
   "outputs": [],
   "source": [
    "# for edge in edges:\n",
    "#    pprint.pprint(edge)"
   ]
  },
  {
   "cell_type": "markdown",
   "metadata": {},
   "source": [
    "Bring into pandas"
   ]
  },
  {
   "cell_type": "code",
   "execution_count": 17,
   "metadata": {},
   "outputs": [],
   "source": [
    "import pandas as pd"
   ]
  },
  {
   "cell_type": "code",
   "execution_count": 18,
   "metadata": {},
   "outputs": [],
   "source": [
    "df = pd.DataFrame.from_records(edges)"
   ]
  },
  {
   "cell_type": "code",
   "execution_count": 19,
   "metadata": {},
   "outputs": [
    {
     "data": {
      "text/plain": [
       "Index(['node'], dtype='object')"
      ]
     },
     "execution_count": 19,
     "metadata": {},
     "output_type": "execute_result"
    }
   ],
   "source": [
    "df.columns"
   ]
  },
  {
   "cell_type": "code",
   "execution_count": 20,
   "metadata": {},
   "outputs": [],
   "source": [
    "# df['node']"
   ]
  },
  {
   "cell_type": "markdown",
   "metadata": {},
   "source": [
    "Generate basic report of total open issues"
   ]
  },
  {
   "cell_type": "code",
   "execution_count": 21,
   "metadata": {},
   "outputs": [
    {
     "name": "stdout",
     "output_type": "stream",
     "text": [
      "Repo                           OpenIssues  OpenPRs   URL\n",
      "team-compass                          2        0     https://github.com/jupyterhub/team-compass\n",
      "nullauthenticator                     0        0     https://github.com/jupyterhub/nullauthenticator\n",
      "binder                                9        1     https://github.com/jupyterhub/binder\n",
      "mybinder.org-deploy                  25        1     https://github.com/jupyterhub/mybinder.org-deploy\n",
      "binderhub                            79        6     https://github.com/jupyterhub/binderhub\n",
      "helm-chart                            3        2     https://github.com/jupyterhub/helm-chart\n",
      "zero-to-jupyterhub-k8s               89        3     https://github.com/jupyterhub/zero-to-jupyterhub-k8s\n",
      "tmpauthenticator                      0        0     https://github.com/jupyterhub/tmpauthenticator\n",
      "nbrsessionproxy                       4        2     https://github.com/jupyterhub/nbrsessionproxy\n",
      "hubshare                             10        0     https://github.com/jupyterhub/hubshare\n",
      "jupyterhub-example-kerberos           3        0     https://github.com/jupyterhub/jupyterhub-example-kerberos\n",
      "nbserverproxy                         2        1     https://github.com/jupyterhub/nbserverproxy\n",
      "jupyterlab-hub                        4        0     https://github.com/jupyterhub/jupyterlab-hub\n",
      "wrapspawner                           5        1     https://github.com/jupyterhub/wrapspawner\n",
      "systemdspawner                        4        2     https://github.com/jupyterhub/systemdspawner\n",
      "jupyterhub-deploy-hpc                 2        0     https://github.com/jupyterhub/jupyterhub-deploy-hpc\n",
      "jupyterhub-tutorial                   5        0     https://github.com/jupyterhub/jupyterhub-tutorial\n",
      "jupyterhub-deploy-teaching           13        2     https://github.com/jupyterhub/jupyterhub-deploy-teaching\n",
      "jupyterhub-deploy-docker              9        1     https://github.com/jupyterhub/jupyterhub-deploy-docker\n",
      "ldapauthenticator                    18        2     https://github.com/jupyterhub/ldapauthenticator\n",
      "kubespawner                          25        3     https://github.com/jupyterhub/kubespawner\n",
      "batchspawner                         12        5     https://github.com/jupyterhub/batchspawner\n",
      "sudospawner                           2        0     https://github.com/jupyterhub/sudospawner\n",
      "dockerspawner                        22        1     https://github.com/jupyterhub/dockerspawner\n",
      "oauthenticator                       13        2     https://github.com/jupyterhub/oauthenticator\n",
      "configurable-http-proxy              11        0     https://github.com/jupyterhub/configurable-http-proxy\n"
     ]
    }
   ],
   "source": [
    "print(f\"{'Repo':30} {'OpenIssues':11} {'OpenPRs':9} {'URL'}\")\n",
    "\n",
    "line = 26\n",
    "while line > 0:\n",
    "    lineout = f\"{df['node'][line]['name']:30} {(df['node'][line]['issues']['totalCount']):8} {(df['node'][line]['pullRequests']['totalCount']):8}     {df['node'][line]['url']}\"\n",
    "    print(lineout)\n",
    "    line -= 1"
   ]
  },
  {
   "cell_type": "code",
   "execution_count": 22,
   "metadata": {},
   "outputs": [
    {
     "data": {
      "text/plain": [
       "node    object\n",
       "dtype: object"
      ]
     },
     "execution_count": 22,
     "metadata": {},
     "output_type": "execute_result"
    }
   ],
   "source": [
    "df.dtypes"
   ]
  },
  {
   "cell_type": "code",
   "execution_count": 23,
   "metadata": {},
   "outputs": [
    {
     "data": {
      "text/html": [
       "<div>\n",
       "<style scoped>\n",
       "    .dataframe tbody tr th:only-of-type {\n",
       "        vertical-align: middle;\n",
       "    }\n",
       "\n",
       "    .dataframe tbody tr th {\n",
       "        vertical-align: top;\n",
       "    }\n",
       "\n",
       "    .dataframe thead th {\n",
       "        text-align: right;\n",
       "    }\n",
       "</style>\n",
       "<table border=\"1\" class=\"dataframe\">\n",
       "  <thead>\n",
       "    <tr style=\"text-align: right;\">\n",
       "      <th></th>\n",
       "      <th>node</th>\n",
       "    </tr>\n",
       "  </thead>\n",
       "  <tbody>\n",
       "    <tr>\n",
       "      <th>0</th>\n",
       "      <td>{'name': 'jupyterhub', 'url': 'https://github....</td>\n",
       "    </tr>\n",
       "    <tr>\n",
       "      <th>1</th>\n",
       "      <td>{'name': 'configurable-http-proxy', 'url': 'ht...</td>\n",
       "    </tr>\n",
       "    <tr>\n",
       "      <th>2</th>\n",
       "      <td>{'name': 'oauthenticator', 'url': 'https://git...</td>\n",
       "    </tr>\n",
       "    <tr>\n",
       "      <th>3</th>\n",
       "      <td>{'name': 'dockerspawner', 'url': 'https://gith...</td>\n",
       "    </tr>\n",
       "    <tr>\n",
       "      <th>4</th>\n",
       "      <td>{'name': 'sudospawner', 'url': 'https://github...</td>\n",
       "    </tr>\n",
       "  </tbody>\n",
       "</table>\n",
       "</div>"
      ],
      "text/plain": [
       "                                                node\n",
       "0  {'name': 'jupyterhub', 'url': 'https://github....\n",
       "1  {'name': 'configurable-http-proxy', 'url': 'ht...\n",
       "2  {'name': 'oauthenticator', 'url': 'https://git...\n",
       "3  {'name': 'dockerspawner', 'url': 'https://gith...\n",
       "4  {'name': 'sudospawner', 'url': 'https://github..."
      ]
     },
     "execution_count": 23,
     "metadata": {},
     "output_type": "execute_result"
    }
   ],
   "source": [
    "df.head()"
   ]
  },
  {
   "cell_type": "code",
   "execution_count": 24,
   "metadata": {},
   "outputs": [
    {
     "data": {
      "text/plain": [
       "RangeIndex(start=0, stop=27, step=1)"
      ]
     },
     "execution_count": 24,
     "metadata": {},
     "output_type": "execute_result"
    }
   ],
   "source": [
    "df.index"
   ]
  },
  {
   "cell_type": "code",
   "execution_count": 25,
   "metadata": {},
   "outputs": [
    {
     "data": {
      "text/plain": [
       "Index(['node'], dtype='object')"
      ]
     },
     "execution_count": 25,
     "metadata": {},
     "output_type": "execute_result"
    }
   ],
   "source": [
    "df.columns"
   ]
  },
  {
   "cell_type": "code",
   "execution_count": 26,
   "metadata": {},
   "outputs": [
    {
     "data": {
      "text/plain": [
       "array([[ {'name': 'jupyterhub', 'url': 'https://github.com/jupyterhub/jupyterhub', 'issues': {'totalCount': 141}, 'pullRequests': {'totalCount': 6}}],\n",
       "       [ {'name': 'configurable-http-proxy', 'url': 'https://github.com/jupyterhub/configurable-http-proxy', 'issues': {'totalCount': 11}, 'pullRequests': {'totalCount': 0}}],\n",
       "       [ {'name': 'oauthenticator', 'url': 'https://github.com/jupyterhub/oauthenticator', 'issues': {'totalCount': 13}, 'pullRequests': {'totalCount': 2}}],\n",
       "       [ {'name': 'dockerspawner', 'url': 'https://github.com/jupyterhub/dockerspawner', 'issues': {'totalCount': 22}, 'pullRequests': {'totalCount': 1}}],\n",
       "       [ {'name': 'sudospawner', 'url': 'https://github.com/jupyterhub/sudospawner', 'issues': {'totalCount': 2}, 'pullRequests': {'totalCount': 0}}],\n",
       "       [ {'name': 'batchspawner', 'url': 'https://github.com/jupyterhub/batchspawner', 'issues': {'totalCount': 12}, 'pullRequests': {'totalCount': 5}}],\n",
       "       [ {'name': 'kubespawner', 'url': 'https://github.com/jupyterhub/kubespawner', 'issues': {'totalCount': 25}, 'pullRequests': {'totalCount': 3}}],\n",
       "       [ {'name': 'ldapauthenticator', 'url': 'https://github.com/jupyterhub/ldapauthenticator', 'issues': {'totalCount': 18}, 'pullRequests': {'totalCount': 2}}],\n",
       "       [ {'name': 'jupyterhub-deploy-docker', 'url': 'https://github.com/jupyterhub/jupyterhub-deploy-docker', 'issues': {'totalCount': 9}, 'pullRequests': {'totalCount': 1}}],\n",
       "       [ {'name': 'jupyterhub-deploy-teaching', 'url': 'https://github.com/jupyterhub/jupyterhub-deploy-teaching', 'issues': {'totalCount': 13}, 'pullRequests': {'totalCount': 2}}],\n",
       "       [ {'name': 'jupyterhub-tutorial', 'url': 'https://github.com/jupyterhub/jupyterhub-tutorial', 'issues': {'totalCount': 5}, 'pullRequests': {'totalCount': 0}}],\n",
       "       [ {'name': 'jupyterhub-deploy-hpc', 'url': 'https://github.com/jupyterhub/jupyterhub-deploy-hpc', 'issues': {'totalCount': 2}, 'pullRequests': {'totalCount': 0}}],\n",
       "       [ {'name': 'systemdspawner', 'url': 'https://github.com/jupyterhub/systemdspawner', 'issues': {'totalCount': 4}, 'pullRequests': {'totalCount': 2}}],\n",
       "       [ {'name': 'wrapspawner', 'url': 'https://github.com/jupyterhub/wrapspawner', 'issues': {'totalCount': 5}, 'pullRequests': {'totalCount': 1}}],\n",
       "       [ {'name': 'jupyterlab-hub', 'url': 'https://github.com/jupyterhub/jupyterlab-hub', 'issues': {'totalCount': 4}, 'pullRequests': {'totalCount': 0}}],\n",
       "       [ {'name': 'nbserverproxy', 'url': 'https://github.com/jupyterhub/nbserverproxy', 'issues': {'totalCount': 2}, 'pullRequests': {'totalCount': 1}}],\n",
       "       [ {'name': 'jupyterhub-example-kerberos', 'url': 'https://github.com/jupyterhub/jupyterhub-example-kerberos', 'issues': {'totalCount': 3}, 'pullRequests': {'totalCount': 0}}],\n",
       "       [ {'name': 'hubshare', 'url': 'https://github.com/jupyterhub/hubshare', 'issues': {'totalCount': 10}, 'pullRequests': {'totalCount': 0}}],\n",
       "       [ {'name': 'nbrsessionproxy', 'url': 'https://github.com/jupyterhub/nbrsessionproxy', 'issues': {'totalCount': 4}, 'pullRequests': {'totalCount': 2}}],\n",
       "       [ {'name': 'tmpauthenticator', 'url': 'https://github.com/jupyterhub/tmpauthenticator', 'issues': {'totalCount': 0}, 'pullRequests': {'totalCount': 0}}],\n",
       "       [ {'name': 'zero-to-jupyterhub-k8s', 'url': 'https://github.com/jupyterhub/zero-to-jupyterhub-k8s', 'issues': {'totalCount': 89}, 'pullRequests': {'totalCount': 3}}],\n",
       "       [ {'name': 'helm-chart', 'url': 'https://github.com/jupyterhub/helm-chart', 'issues': {'totalCount': 3}, 'pullRequests': {'totalCount': 2}}],\n",
       "       [ {'name': 'binderhub', 'url': 'https://github.com/jupyterhub/binderhub', 'issues': {'totalCount': 79}, 'pullRequests': {'totalCount': 6}}],\n",
       "       [ {'name': 'mybinder.org-deploy', 'url': 'https://github.com/jupyterhub/mybinder.org-deploy', 'issues': {'totalCount': 25}, 'pullRequests': {'totalCount': 1}}],\n",
       "       [ {'name': 'binder', 'url': 'https://github.com/jupyterhub/binder', 'issues': {'totalCount': 9}, 'pullRequests': {'totalCount': 1}}],\n",
       "       [ {'name': 'nullauthenticator', 'url': 'https://github.com/jupyterhub/nullauthenticator', 'issues': {'totalCount': 0}, 'pullRequests': {'totalCount': 0}}],\n",
       "       [ {'name': 'team-compass', 'url': 'https://github.com/jupyterhub/team-compass', 'issues': {'totalCount': 2}, 'pullRequests': {'totalCount': 0}}]], dtype=object)"
      ]
     },
     "execution_count": 26,
     "metadata": {},
     "output_type": "execute_result"
    }
   ],
   "source": [
    "df.values"
   ]
  },
  {
   "cell_type": "code",
   "execution_count": 27,
   "metadata": {},
   "outputs": [
    {
     "data": {
      "text/plain": [
       "<bound method DataFrame.sort_index of                                                  node\n",
       "0   {'name': 'jupyterhub', 'url': 'https://github....\n",
       "1   {'name': 'configurable-http-proxy', 'url': 'ht...\n",
       "2   {'name': 'oauthenticator', 'url': 'https://git...\n",
       "3   {'name': 'dockerspawner', 'url': 'https://gith...\n",
       "4   {'name': 'sudospawner', 'url': 'https://github...\n",
       "5   {'name': 'batchspawner', 'url': 'https://githu...\n",
       "6   {'name': 'kubespawner', 'url': 'https://github...\n",
       "7   {'name': 'ldapauthenticator', 'url': 'https://...\n",
       "8   {'name': 'jupyterhub-deploy-docker', 'url': 'h...\n",
       "9   {'name': 'jupyterhub-deploy-teaching', 'url': ...\n",
       "10  {'name': 'jupyterhub-tutorial', 'url': 'https:...\n",
       "11  {'name': 'jupyterhub-deploy-hpc', 'url': 'http...\n",
       "12  {'name': 'systemdspawner', 'url': 'https://git...\n",
       "13  {'name': 'wrapspawner', 'url': 'https://github...\n",
       "14  {'name': 'jupyterlab-hub', 'url': 'https://git...\n",
       "15  {'name': 'nbserverproxy', 'url': 'https://gith...\n",
       "16  {'name': 'jupyterhub-example-kerberos', 'url':...\n",
       "17  {'name': 'hubshare', 'url': 'https://github.co...\n",
       "18  {'name': 'nbrsessionproxy', 'url': 'https://gi...\n",
       "19  {'name': 'tmpauthenticator', 'url': 'https://g...\n",
       "20  {'name': 'zero-to-jupyterhub-k8s', 'url': 'htt...\n",
       "21  {'name': 'helm-chart', 'url': 'https://github....\n",
       "22  {'name': 'binderhub', 'url': 'https://github.c...\n",
       "23  {'name': 'mybinder.org-deploy', 'url': 'https:...\n",
       "24  {'name': 'binder', 'url': 'https://github.com/...\n",
       "25  {'name': 'nullauthenticator', 'url': 'https://...\n",
       "26  {'name': 'team-compass', 'url': 'https://githu...>"
      ]
     },
     "execution_count": 27,
     "metadata": {},
     "output_type": "execute_result"
    }
   ],
   "source": [
    "df.sort_index"
   ]
  },
  {
   "cell_type": "code",
   "execution_count": 28,
   "metadata": {},
   "outputs": [],
   "source": [
    "# output data to a csv\n",
    "# df.to_csv('issue_data.csv')"
   ]
  }
 ],
 "metadata": {
  "kernelspec": {
   "display_name": "Python 3",
   "language": "python",
   "name": "python3"
  },
  "language_info": {
   "codemirror_mode": {
    "name": "ipython",
    "version": 3
   },
   "file_extension": ".py",
   "mimetype": "text/x-python",
   "name": "python",
   "nbconvert_exporter": "python",
   "pygments_lexer": "ipython3",
   "version": "3.6.3"
  }
 },
 "nbformat": 4,
 "nbformat_minor": 2
}
