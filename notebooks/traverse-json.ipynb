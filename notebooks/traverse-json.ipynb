{
 "cells": [
  {
   "cell_type": "markdown",
   "metadata": {},
   "source": [
    "# Use pyquery-ql.py\n",
    "\n",
    "Send a graphql query to GitHub\n",
    "and pretty print output.\n",
    "\n",
    "Supports Python 3.6+"
   ]
  },
  {
   "cell_type": "code",
   "execution_count": 1,
   "metadata": {},
   "outputs": [],
   "source": [
    "import json\n",
    "import os\n",
    "import pprint\n",
    "\n",
    "import requests"
   ]
  },
  {
   "cell_type": "code",
   "execution_count": 2,
   "metadata": {},
   "outputs": [],
   "source": [
    "# get api token and set authorization\n",
    "api_token = os.environ['GITHUB_API_TOKEN']\n",
    "headers = {'Authorization': f'token {api_token}'}"
   ]
  },
  {
   "cell_type": "code",
   "execution_count": 3,
   "metadata": {},
   "outputs": [],
   "source": [
    "# set url to a graphql endpoint\n",
    "url = 'https://api.github.com/graphql'"
   ]
  },
  {
   "cell_type": "code",
   "execution_count": 4,
   "metadata": {},
   "outputs": [],
   "source": [
    "# add a json query\n",
    "query = \"\"\"\n",
    "{\n",
    "  organization(login: \"jupyterhub\") {\n",
    "    repositories(first: 30) {\n",
    "      totalCount\n",
    "      edges {\n",
    "        node {\n",
    "          name\n",
    "          url\n",
    "          issues(states: OPEN) {\n",
    "            totalCount\n",
    "          }\n",
    "          pullRequests(states: OPEN) {\n",
    "            totalCount\n",
    "          }\n",
    "        }\n",
    "      }\n",
    "    }\n",
    "  }\n",
    "}\n",
    "\"\"\""
   ]
  },
  {
   "cell_type": "code",
   "execution_count": 5,
   "metadata": {},
   "outputs": [],
   "source": [
    "# submit the request\n",
    "r = requests.post(url=url, json={'query': query}, headers=headers)"
   ]
  },
  {
   "cell_type": "code",
   "execution_count": 22,
   "metadata": {},
   "outputs": [
    {
     "data": {
      "text/plain": [
       "{'data': {'organization': {'repositories': {'edges': [{'node': {'issues': {'totalCount': 143},\n",
       "       'name': 'jupyterhub',\n",
       "       'pullRequests': {'totalCount': 6},\n",
       "       'url': 'https://github.com/jupyterhub/jupyterhub'}},\n",
       "     {'node': {'issues': {'totalCount': 10},\n",
       "       'name': 'configurable-http-proxy',\n",
       "       'pullRequests': {'totalCount': 0},\n",
       "       'url': 'https://github.com/jupyterhub/configurable-http-proxy'}},\n",
       "     {'node': {'issues': {'totalCount': 13},\n",
       "       'name': 'oauthenticator',\n",
       "       'pullRequests': {'totalCount': 2},\n",
       "       'url': 'https://github.com/jupyterhub/oauthenticator'}},\n",
       "     {'node': {'issues': {'totalCount': 22},\n",
       "       'name': 'dockerspawner',\n",
       "       'pullRequests': {'totalCount': 1},\n",
       "       'url': 'https://github.com/jupyterhub/dockerspawner'}},\n",
       "     {'node': {'issues': {'totalCount': 2},\n",
       "       'name': 'sudospawner',\n",
       "       'pullRequests': {'totalCount': 0},\n",
       "       'url': 'https://github.com/jupyterhub/sudospawner'}},\n",
       "     {'node': {'issues': {'totalCount': 12},\n",
       "       'name': 'batchspawner',\n",
       "       'pullRequests': {'totalCount': 5},\n",
       "       'url': 'https://github.com/jupyterhub/batchspawner'}},\n",
       "     {'node': {'issues': {'totalCount': 25},\n",
       "       'name': 'kubespawner',\n",
       "       'pullRequests': {'totalCount': 3},\n",
       "       'url': 'https://github.com/jupyterhub/kubespawner'}},\n",
       "     {'node': {'issues': {'totalCount': 18},\n",
       "       'name': 'ldapauthenticator',\n",
       "       'pullRequests': {'totalCount': 2},\n",
       "       'url': 'https://github.com/jupyterhub/ldapauthenticator'}},\n",
       "     {'node': {'issues': {'totalCount': 9},\n",
       "       'name': 'jupyterhub-deploy-docker',\n",
       "       'pullRequests': {'totalCount': 1},\n",
       "       'url': 'https://github.com/jupyterhub/jupyterhub-deploy-docker'}},\n",
       "     {'node': {'issues': {'totalCount': 13},\n",
       "       'name': 'jupyterhub-deploy-teaching',\n",
       "       'pullRequests': {'totalCount': 2},\n",
       "       'url': 'https://github.com/jupyterhub/jupyterhub-deploy-teaching'}},\n",
       "     {'node': {'issues': {'totalCount': 5},\n",
       "       'name': 'jupyterhub-tutorial',\n",
       "       'pullRequests': {'totalCount': 0},\n",
       "       'url': 'https://github.com/jupyterhub/jupyterhub-tutorial'}},\n",
       "     {'node': {'issues': {'totalCount': 2},\n",
       "       'name': 'jupyterhub-deploy-hpc',\n",
       "       'pullRequests': {'totalCount': 0},\n",
       "       'url': 'https://github.com/jupyterhub/jupyterhub-deploy-hpc'}},\n",
       "     {'node': {'issues': {'totalCount': 4},\n",
       "       'name': 'systemdspawner',\n",
       "       'pullRequests': {'totalCount': 2},\n",
       "       'url': 'https://github.com/jupyterhub/systemdspawner'}},\n",
       "     {'node': {'issues': {'totalCount': 5},\n",
       "       'name': 'wrapspawner',\n",
       "       'pullRequests': {'totalCount': 1},\n",
       "       'url': 'https://github.com/jupyterhub/wrapspawner'}},\n",
       "     {'node': {'issues': {'totalCount': 4},\n",
       "       'name': 'jupyterlab-hub',\n",
       "       'pullRequests': {'totalCount': 0},\n",
       "       'url': 'https://github.com/jupyterhub/jupyterlab-hub'}},\n",
       "     {'node': {'issues': {'totalCount': 2},\n",
       "       'name': 'nbserverproxy',\n",
       "       'pullRequests': {'totalCount': 1},\n",
       "       'url': 'https://github.com/jupyterhub/nbserverproxy'}},\n",
       "     {'node': {'issues': {'totalCount': 3},\n",
       "       'name': 'jupyterhub-example-kerberos',\n",
       "       'pullRequests': {'totalCount': 0},\n",
       "       'url': 'https://github.com/jupyterhub/jupyterhub-example-kerberos'}},\n",
       "     {'node': {'issues': {'totalCount': 10},\n",
       "       'name': 'hubshare',\n",
       "       'pullRequests': {'totalCount': 0},\n",
       "       'url': 'https://github.com/jupyterhub/hubshare'}},\n",
       "     {'node': {'issues': {'totalCount': 4},\n",
       "       'name': 'nbrsessionproxy',\n",
       "       'pullRequests': {'totalCount': 2},\n",
       "       'url': 'https://github.com/jupyterhub/nbrsessionproxy'}},\n",
       "     {'node': {'issues': {'totalCount': 0},\n",
       "       'name': 'tmpauthenticator',\n",
       "       'pullRequests': {'totalCount': 0},\n",
       "       'url': 'https://github.com/jupyterhub/tmpauthenticator'}},\n",
       "     {'node': {'issues': {'totalCount': 90},\n",
       "       'name': 'zero-to-jupyterhub-k8s',\n",
       "       'pullRequests': {'totalCount': 3},\n",
       "       'url': 'https://github.com/jupyterhub/zero-to-jupyterhub-k8s'}},\n",
       "     {'node': {'issues': {'totalCount': 3},\n",
       "       'name': 'helm-chart',\n",
       "       'pullRequests': {'totalCount': 0},\n",
       "       'url': 'https://github.com/jupyterhub/helm-chart'}},\n",
       "     {'node': {'issues': {'totalCount': 75},\n",
       "       'name': 'binderhub',\n",
       "       'pullRequests': {'totalCount': 5},\n",
       "       'url': 'https://github.com/jupyterhub/binderhub'}},\n",
       "     {'node': {'issues': {'totalCount': 24},\n",
       "       'name': 'mybinder.org-deploy',\n",
       "       'pullRequests': {'totalCount': 1},\n",
       "       'url': 'https://github.com/jupyterhub/mybinder.org-deploy'}},\n",
       "     {'node': {'issues': {'totalCount': 9},\n",
       "       'name': 'binder',\n",
       "       'pullRequests': {'totalCount': 1},\n",
       "       'url': 'https://github.com/jupyterhub/binder'}},\n",
       "     {'node': {'issues': {'totalCount': 0},\n",
       "       'name': 'nullauthenticator',\n",
       "       'pullRequests': {'totalCount': 0},\n",
       "       'url': 'https://github.com/jupyterhub/nullauthenticator'}},\n",
       "     {'node': {'issues': {'totalCount': 2},\n",
       "       'name': 'team-compass',\n",
       "       'pullRequests': {'totalCount': 1},\n",
       "       'url': 'https://github.com/jupyterhub/team-compass'}}],\n",
       "    'totalCount': 27}}}}"
      ]
     },
     "execution_count": 22,
     "metadata": {},
     "output_type": "execute_result"
    }
   ],
   "source": [
    "data = json.loads(r.text)\n",
    "data"
   ]
  },
  {
   "cell_type": "code",
   "execution_count": null,
   "metadata": {},
   "outputs": [],
   "source": [
    "# pprint.pprint(data)"
   ]
  },
  {
   "cell_type": "markdown",
   "metadata": {},
   "source": [
    "Walk the JSON response contents"
   ]
  },
  {
   "cell_type": "code",
   "execution_count": 12,
   "metadata": {},
   "outputs": [],
   "source": [
    "def traverse(obj, path=None, callback=None):\n",
    "    if path is None:\n",
    "        path = []\n",
    "\n",
    "    if isinstance(obj, dict):\n",
    "        value = {k: traverse(v, path + [k], callback)\n",
    "                 for k, v in obj.items()}\n",
    "    elif isinstance(obj, list):\n",
    "        value = [traverse(elem, path + [[]], callback)\n",
    "                 for elem in obj]\n",
    "    else:\n",
    "        value = obj\n",
    "\n",
    "    if callback is None:  # if a callback is provided, call it to get the new value\n",
    "        return value\n",
    "    else:\n",
    "        return callback(path, value)"
   ]
  },
  {
   "cell_type": "code",
   "execution_count": 47,
   "metadata": {},
   "outputs": [
    {
     "data": {
      "text/plain": [
       "{'data': {'organization': {'repositories': {'edges': [{'node': {'issues': {'totalCount': 143},\n",
       "       'name': 'jupyterhub',\n",
       "       'pullRequests': {'totalCount': 6},\n",
       "       'url': 'https://github.com/jupyterhub/jupyterhub'}},\n",
       "     {'node': {'issues': {'totalCount': 10},\n",
       "       'name': 'configurable-http-proxy',\n",
       "       'pullRequests': {'totalCount': 0},\n",
       "       'url': 'https://github.com/jupyterhub/configurable-http-proxy'}},\n",
       "     {'node': {'issues': {'totalCount': 13},\n",
       "       'name': 'oauthenticator',\n",
       "       'pullRequests': {'totalCount': 2},\n",
       "       'url': 'https://github.com/jupyterhub/oauthenticator'}},\n",
       "     {'node': {'issues': {'totalCount': 22},\n",
       "       'name': 'dockerspawner',\n",
       "       'pullRequests': {'totalCount': 1},\n",
       "       'url': 'https://github.com/jupyterhub/dockerspawner'}},\n",
       "     {'node': {'issues': {'totalCount': 2},\n",
       "       'name': 'sudospawner',\n",
       "       'pullRequests': {'totalCount': 0},\n",
       "       'url': 'https://github.com/jupyterhub/sudospawner'}},\n",
       "     {'node': {'issues': {'totalCount': 12},\n",
       "       'name': 'batchspawner',\n",
       "       'pullRequests': {'totalCount': 5},\n",
       "       'url': 'https://github.com/jupyterhub/batchspawner'}},\n",
       "     {'node': {'issues': {'totalCount': 25},\n",
       "       'name': 'kubespawner',\n",
       "       'pullRequests': {'totalCount': 3},\n",
       "       'url': 'https://github.com/jupyterhub/kubespawner'}},\n",
       "     {'node': {'issues': {'totalCount': 18},\n",
       "       'name': 'ldapauthenticator',\n",
       "       'pullRequests': {'totalCount': 2},\n",
       "       'url': 'https://github.com/jupyterhub/ldapauthenticator'}},\n",
       "     {'node': {'issues': {'totalCount': 9},\n",
       "       'name': 'jupyterhub-deploy-docker',\n",
       "       'pullRequests': {'totalCount': 1},\n",
       "       'url': 'https://github.com/jupyterhub/jupyterhub-deploy-docker'}},\n",
       "     {'node': {'issues': {'totalCount': 13},\n",
       "       'name': 'jupyterhub-deploy-teaching',\n",
       "       'pullRequests': {'totalCount': 2},\n",
       "       'url': 'https://github.com/jupyterhub/jupyterhub-deploy-teaching'}},\n",
       "     {'node': {'issues': {'totalCount': 5},\n",
       "       'name': 'jupyterhub-tutorial',\n",
       "       'pullRequests': {'totalCount': 0},\n",
       "       'url': 'https://github.com/jupyterhub/jupyterhub-tutorial'}},\n",
       "     {'node': {'issues': {'totalCount': 2},\n",
       "       'name': 'jupyterhub-deploy-hpc',\n",
       "       'pullRequests': {'totalCount': 0},\n",
       "       'url': 'https://github.com/jupyterhub/jupyterhub-deploy-hpc'}},\n",
       "     {'node': {'issues': {'totalCount': 4},\n",
       "       'name': 'systemdspawner',\n",
       "       'pullRequests': {'totalCount': 2},\n",
       "       'url': 'https://github.com/jupyterhub/systemdspawner'}},\n",
       "     {'node': {'issues': {'totalCount': 5},\n",
       "       'name': 'wrapspawner',\n",
       "       'pullRequests': {'totalCount': 1},\n",
       "       'url': 'https://github.com/jupyterhub/wrapspawner'}},\n",
       "     {'node': {'issues': {'totalCount': 4},\n",
       "       'name': 'jupyterlab-hub',\n",
       "       'pullRequests': {'totalCount': 0},\n",
       "       'url': 'https://github.com/jupyterhub/jupyterlab-hub'}},\n",
       "     {'node': {'issues': {'totalCount': 2},\n",
       "       'name': 'nbserverproxy',\n",
       "       'pullRequests': {'totalCount': 1},\n",
       "       'url': 'https://github.com/jupyterhub/nbserverproxy'}},\n",
       "     {'node': {'issues': {'totalCount': 3},\n",
       "       'name': 'jupyterhub-example-kerberos',\n",
       "       'pullRequests': {'totalCount': 0},\n",
       "       'url': 'https://github.com/jupyterhub/jupyterhub-example-kerberos'}},\n",
       "     {'node': {'issues': {'totalCount': 10},\n",
       "       'name': 'hubshare',\n",
       "       'pullRequests': {'totalCount': 0},\n",
       "       'url': 'https://github.com/jupyterhub/hubshare'}},\n",
       "     {'node': {'issues': {'totalCount': 4},\n",
       "       'name': 'nbrsessionproxy',\n",
       "       'pullRequests': {'totalCount': 2},\n",
       "       'url': 'https://github.com/jupyterhub/nbrsessionproxy'}},\n",
       "     {'node': {'issues': {'totalCount': 0},\n",
       "       'name': 'tmpauthenticator',\n",
       "       'pullRequests': {'totalCount': 0},\n",
       "       'url': 'https://github.com/jupyterhub/tmpauthenticator'}},\n",
       "     {'node': {'issues': {'totalCount': 90},\n",
       "       'name': 'zero-to-jupyterhub-k8s',\n",
       "       'pullRequests': {'totalCount': 3},\n",
       "       'url': 'https://github.com/jupyterhub/zero-to-jupyterhub-k8s'}},\n",
       "     {'node': {'issues': {'totalCount': 3},\n",
       "       'name': 'helm-chart',\n",
       "       'pullRequests': {'totalCount': 0},\n",
       "       'url': 'https://github.com/jupyterhub/helm-chart'}},\n",
       "     {'node': {'issues': {'totalCount': 75},\n",
       "       'name': 'binderhub',\n",
       "       'pullRequests': {'totalCount': 5},\n",
       "       'url': 'https://github.com/jupyterhub/binderhub'}},\n",
       "     {'node': {'issues': {'totalCount': 24},\n",
       "       'name': 'mybinder.org-deploy',\n",
       "       'pullRequests': {'totalCount': 1},\n",
       "       'url': 'https://github.com/jupyterhub/mybinder.org-deploy'}},\n",
       "     {'node': {'issues': {'totalCount': 9},\n",
       "       'name': 'binder',\n",
       "       'pullRequests': {'totalCount': 1},\n",
       "       'url': 'https://github.com/jupyterhub/binder'}},\n",
       "     {'node': {'issues': {'totalCount': 0},\n",
       "       'name': 'nullauthenticator',\n",
       "       'pullRequests': {'totalCount': 0},\n",
       "       'url': 'https://github.com/jupyterhub/nullauthenticator'}},\n",
       "     {'node': {'issues': {'totalCount': 2},\n",
       "       'name': 'team-compass',\n",
       "       'pullRequests': {'totalCount': 1},\n",
       "       'url': 'https://github.com/jupyterhub/team-compass'}}],\n",
       "    'totalCount': 27}}}}"
      ]
     },
     "execution_count": 47,
     "metadata": {},
     "output_type": "execute_result"
    }
   ],
   "source": [
    "traverse(data)"
   ]
  },
  {
   "cell_type": "code",
   "execution_count": 15,
   "metadata": {},
   "outputs": [],
   "source": [
    "def traverse_modify(obj, target_path, action):\n",
    "    target_path = to_path(target_path)  # converts 'foo.bar' to ['foo', 'bar']\n",
    "\n",
    "    # This will get called for every path/value in the structure\n",
    "    def transformer(path, value):\n",
    "        if path == target_path:\n",
    "            return action(value)\n",
    "        else:\n",
    "            return value\n",
    "\n",
    "    return traverse(obj, callback=transformer)"
   ]
  },
  {
   "cell_type": "code",
   "execution_count": 16,
   "metadata": {},
   "outputs": [],
   "source": [
    "def to_path(path):\n",
    "    \"\"\"\n",
    "    Helper function, converting path strings into path lists.\n",
    "        >>> to_path('foo')\n",
    "        ['foo']\n",
    "        >>> to_path('foo.bar')\n",
    "        ['foo', 'bar']\n",
    "        >>> to_path('foo.bar[]')\n",
    "        ['foo', 'bar', []]\n",
    "    \"\"\"\n",
    "    if isinstance(path, list):\n",
    "        return path  # already in list format\n",
    "\n",
    "    def _iter_path(path):\n",
    "        for parts in path.split('[]'):\n",
    "            for part in parts.strip('.').split('.'):\n",
    "                yield part\n",
    "            yield []\n",
    "\n",
    "    return list(_iter_path(path))[:-1]"
   ]
  },
  {
   "cell_type": "code",
   "execution_count": 64,
   "metadata": {},
   "outputs": [
    {
     "data": {
      "text/plain": [
       "{'data': {'organization': {'repositories': {'edges': [{'node': {'issues': {'totalCount': 143},\n",
       "       'name': 'jupyterhub',\n",
       "       'pullRequests': {'totalCount': 6},\n",
       "       'url': 'https://github.com/jupyterhub/jupyterhub'}},\n",
       "     {'node': {'issues': {'totalCount': 10},\n",
       "       'name': 'configurable-http-proxy',\n",
       "       'pullRequests': {'totalCount': 0},\n",
       "       'url': 'https://github.com/jupyterhub/configurable-http-proxy'}},\n",
       "     {'node': {'issues': {'totalCount': 13},\n",
       "       'name': 'oauthenticator',\n",
       "       'pullRequests': {'totalCount': 2},\n",
       "       'url': 'https://github.com/jupyterhub/oauthenticator'}},\n",
       "     {'node': {'issues': {'totalCount': 22},\n",
       "       'name': 'dockerspawner',\n",
       "       'pullRequests': {'totalCount': 1},\n",
       "       'url': 'https://github.com/jupyterhub/dockerspawner'}},\n",
       "     {'node': {'issues': {'totalCount': 2},\n",
       "       'name': 'sudospawner',\n",
       "       'pullRequests': {'totalCount': 0},\n",
       "       'url': 'https://github.com/jupyterhub/sudospawner'}},\n",
       "     {'node': {'issues': {'totalCount': 12},\n",
       "       'name': 'batchspawner',\n",
       "       'pullRequests': {'totalCount': 5},\n",
       "       'url': 'https://github.com/jupyterhub/batchspawner'}},\n",
       "     {'node': {'issues': {'totalCount': 25},\n",
       "       'name': 'kubespawner',\n",
       "       'pullRequests': {'totalCount': 3},\n",
       "       'url': 'https://github.com/jupyterhub/kubespawner'}},\n",
       "     {'node': {'issues': {'totalCount': 18},\n",
       "       'name': 'ldapauthenticator',\n",
       "       'pullRequests': {'totalCount': 2},\n",
       "       'url': 'https://github.com/jupyterhub/ldapauthenticator'}},\n",
       "     {'node': {'issues': {'totalCount': 9},\n",
       "       'name': 'jupyterhub-deploy-docker',\n",
       "       'pullRequests': {'totalCount': 1},\n",
       "       'url': 'https://github.com/jupyterhub/jupyterhub-deploy-docker'}},\n",
       "     {'node': {'issues': {'totalCount': 13},\n",
       "       'name': 'jupyterhub-deploy-teaching',\n",
       "       'pullRequests': {'totalCount': 2},\n",
       "       'url': 'https://github.com/jupyterhub/jupyterhub-deploy-teaching'}},\n",
       "     {'node': {'issues': {'totalCount': 5},\n",
       "       'name': 'jupyterhub-tutorial',\n",
       "       'pullRequests': {'totalCount': 0},\n",
       "       'url': 'https://github.com/jupyterhub/jupyterhub-tutorial'}},\n",
       "     {'node': {'issues': {'totalCount': 2},\n",
       "       'name': 'jupyterhub-deploy-hpc',\n",
       "       'pullRequests': {'totalCount': 0},\n",
       "       'url': 'https://github.com/jupyterhub/jupyterhub-deploy-hpc'}},\n",
       "     {'node': {'issues': {'totalCount': 4},\n",
       "       'name': 'systemdspawner',\n",
       "       'pullRequests': {'totalCount': 2},\n",
       "       'url': 'https://github.com/jupyterhub/systemdspawner'}},\n",
       "     {'node': {'issues': {'totalCount': 5},\n",
       "       'name': 'wrapspawner',\n",
       "       'pullRequests': {'totalCount': 1},\n",
       "       'url': 'https://github.com/jupyterhub/wrapspawner'}},\n",
       "     {'node': {'issues': {'totalCount': 4},\n",
       "       'name': 'jupyterlab-hub',\n",
       "       'pullRequests': {'totalCount': 0},\n",
       "       'url': 'https://github.com/jupyterhub/jupyterlab-hub'}},\n",
       "     {'node': {'issues': {'totalCount': 2},\n",
       "       'name': 'nbserverproxy',\n",
       "       'pullRequests': {'totalCount': 1},\n",
       "       'url': 'https://github.com/jupyterhub/nbserverproxy'}},\n",
       "     {'node': {'issues': {'totalCount': 3},\n",
       "       'name': 'jupyterhub-example-kerberos',\n",
       "       'pullRequests': {'totalCount': 0},\n",
       "       'url': 'https://github.com/jupyterhub/jupyterhub-example-kerberos'}},\n",
       "     {'node': {'issues': {'totalCount': 10},\n",
       "       'name': 'hubshare',\n",
       "       'pullRequests': {'totalCount': 0},\n",
       "       'url': 'https://github.com/jupyterhub/hubshare'}},\n",
       "     {'node': {'issues': {'totalCount': 4},\n",
       "       'name': 'nbrsessionproxy',\n",
       "       'pullRequests': {'totalCount': 2},\n",
       "       'url': 'https://github.com/jupyterhub/nbrsessionproxy'}},\n",
       "     {'node': {'issues': {'totalCount': 0},\n",
       "       'name': 'tmpauthenticator',\n",
       "       'pullRequests': {'totalCount': 0},\n",
       "       'url': 'https://github.com/jupyterhub/tmpauthenticator'}},\n",
       "     {'node': {'issues': {'totalCount': 90},\n",
       "       'name': 'zero-to-jupyterhub-k8s',\n",
       "       'pullRequests': {'totalCount': 3},\n",
       "       'url': 'https://github.com/jupyterhub/zero-to-jupyterhub-k8s'}},\n",
       "     {'node': {'issues': {'totalCount': 3},\n",
       "       'name': 'helm-chart',\n",
       "       'pullRequests': {'totalCount': 0},\n",
       "       'url': 'https://github.com/jupyterhub/helm-chart'}},\n",
       "     {'node': {'issues': {'totalCount': 75},\n",
       "       'name': 'binderhub',\n",
       "       'pullRequests': {'totalCount': 5},\n",
       "       'url': 'https://github.com/jupyterhub/binderhub'}},\n",
       "     {'node': {'issues': {'totalCount': 24},\n",
       "       'name': 'mybinder.org-deploy',\n",
       "       'pullRequests': {'totalCount': 1},\n",
       "       'url': 'https://github.com/jupyterhub/mybinder.org-deploy'}},\n",
       "     {'node': {'issues': {'totalCount': 9},\n",
       "       'name': 'binder',\n",
       "       'pullRequests': {'totalCount': 1},\n",
       "       'url': 'https://github.com/jupyterhub/binder'}},\n",
       "     {'node': {'issues': {'totalCount': 0},\n",
       "       'name': 'nullauthenticator',\n",
       "       'pullRequests': {'totalCount': 0},\n",
       "       'url': 'https://github.com/jupyterhub/nullauthenticator'}},\n",
       "     {'node': {'issues': {'totalCount': 2},\n",
       "       'name': 'team-compass',\n",
       "       'pullRequests': {'totalCount': 1},\n",
       "       'url': 'https://github.com/jupyterhub/team-compass'}}],\n",
       "    'totalCount': 27}}}}"
      ]
     },
     "execution_count": 64,
     "metadata": {},
     "output_type": "execute_result"
    }
   ],
   "source": [
    "from operator import itemgetter\n",
    "\n",
    "def sort_nodes(names):\n",
    "    \"\"\"Will sort a list of points.\"\"\"\n",
    "    return sorted(names, reverse=True, key=itemgetter('node.name'))\n",
    "\n",
    "traverse_modify(data, 'data.organization.repositories.edges[].node{}', sort_nodes)"
   ]
  },
  {
   "cell_type": "code",
   "execution_count": null,
   "metadata": {},
   "outputs": [],
   "source": [
    "issue_data = data['data']"
   ]
  },
  {
   "cell_type": "code",
   "execution_count": null,
   "metadata": {},
   "outputs": [],
   "source": [
    "org = issue_data['organization']"
   ]
  },
  {
   "cell_type": "code",
   "execution_count": null,
   "metadata": {},
   "outputs": [],
   "source": [
    "repos = org['repositories']"
   ]
  },
  {
   "cell_type": "code",
   "execution_count": null,
   "metadata": {},
   "outputs": [],
   "source": [
    "edges = repos['edges']"
   ]
  },
  {
   "cell_type": "code",
   "execution_count": null,
   "metadata": {},
   "outputs": [],
   "source": [
    "# edges[0]['node']"
   ]
  },
  {
   "cell_type": "code",
   "execution_count": null,
   "metadata": {},
   "outputs": [],
   "source": [
    "# print(edges[0]['node']['name'] + '---' + edges[0]['node']['url'])"
   ]
  },
  {
   "cell_type": "code",
   "execution_count": null,
   "metadata": {},
   "outputs": [],
   "source": [
    "# for edge in edges:\n",
    "#    pprint.pprint(edge)"
   ]
  },
  {
   "cell_type": "markdown",
   "metadata": {},
   "source": [
    "Bring into pandas"
   ]
  },
  {
   "cell_type": "code",
   "execution_count": null,
   "metadata": {},
   "outputs": [],
   "source": [
    "import pandas as pd"
   ]
  },
  {
   "cell_type": "code",
   "execution_count": null,
   "metadata": {},
   "outputs": [],
   "source": [
    "df = pd.DataFrame.from_records(edges)"
   ]
  },
  {
   "cell_type": "code",
   "execution_count": null,
   "metadata": {},
   "outputs": [],
   "source": [
    "df.columns"
   ]
  },
  {
   "cell_type": "code",
   "execution_count": null,
   "metadata": {},
   "outputs": [],
   "source": [
    "# df['node']"
   ]
  },
  {
   "cell_type": "markdown",
   "metadata": {},
   "source": [
    "Generate basic report of total open issues"
   ]
  },
  {
   "cell_type": "code",
   "execution_count": null,
   "metadata": {},
   "outputs": [],
   "source": [
    "print(f\"{'Repo':30} {'OpenIssues':11} {'OpenPRs':9} {'URL'}\")\n",
    "\n",
    "line = 26\n",
    "while line > 0:\n",
    "    lineout = f\"{df['node'][line]['name']:30} {(df['node'][line]['issues']['totalCount']):8} {(df['node'][line]['pullRequests']['totalCount']):8}     {df['node'][line]['url']}\"\n",
    "    print(lineout)\n",
    "    line -= 1"
   ]
  },
  {
   "cell_type": "code",
   "execution_count": null,
   "metadata": {},
   "outputs": [],
   "source": [
    "df.dtypes"
   ]
  },
  {
   "cell_type": "code",
   "execution_count": null,
   "metadata": {},
   "outputs": [],
   "source": [
    "df.head()"
   ]
  },
  {
   "cell_type": "code",
   "execution_count": null,
   "metadata": {},
   "outputs": [],
   "source": [
    "df.index"
   ]
  },
  {
   "cell_type": "code",
   "execution_count": null,
   "metadata": {},
   "outputs": [],
   "source": [
    "df.columns"
   ]
  },
  {
   "cell_type": "code",
   "execution_count": null,
   "metadata": {},
   "outputs": [],
   "source": [
    "df.values"
   ]
  },
  {
   "cell_type": "code",
   "execution_count": null,
   "metadata": {},
   "outputs": [],
   "source": [
    "df.sort_index"
   ]
  },
  {
   "cell_type": "code",
   "execution_count": null,
   "metadata": {},
   "outputs": [],
   "source": [
    "# output data to a csv\n",
    "# df.to_csv('issue_data.csv')"
   ]
  }
 ],
 "metadata": {
  "kernelspec": {
   "display_name": "Python 3",
   "language": "python",
   "name": "python3"
  },
  "language_info": {
   "codemirror_mode": {
    "name": "ipython",
    "version": 3
   },
   "file_extension": ".py",
   "mimetype": "text/x-python",
   "name": "python",
   "nbconvert_exporter": "python",
   "pygments_lexer": "ipython3",
   "version": "3.6.3"
  }
 },
 "nbformat": 4,
 "nbformat_minor": 2
}
