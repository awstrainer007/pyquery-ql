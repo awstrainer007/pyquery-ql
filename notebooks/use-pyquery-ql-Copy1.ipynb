{
 "cells": [
  {
   "cell_type": "markdown",
   "metadata": {},
   "source": [
    "# Use pyquery-ql.py\n",
    "\n",
    "Send a graphql query to GitHub\n",
    "and pretty print output.\n",
    "\n",
    "Supports Python 3.6+"
   ]
  },
  {
   "cell_type": "code",
   "execution_count": 1,
   "metadata": {},
   "outputs": [],
   "source": [
    "import json\n",
    "import os\n",
    "import pprint\n",
    "\n",
    "import requests"
   ]
  },
  {
   "cell_type": "code",
   "execution_count": 2,
   "metadata": {},
   "outputs": [],
   "source": [
    "# get api token and set authorization\n",
    "api_token = os.environ['GITHUB_API_TOKEN']\n",
    "headers = {'Authorization': f'token {api_token}'}"
   ]
  },
  {
   "cell_type": "code",
   "execution_count": 3,
   "metadata": {},
   "outputs": [],
   "source": [
    "# set url to a graphql endpoint\n",
    "url = 'https://api.github.com/graphql'"
   ]
  },
  {
   "cell_type": "code",
   "execution_count": 4,
   "metadata": {},
   "outputs": [],
   "source": [
    "# add a json query\n",
    "query = \"\"\"\n",
    "{\n",
    "  organization(login: \"jupyterhub\") {\n",
    "    repositories(first: 30) {\n",
    "      totalCount\n",
    "      edges {\n",
    "        node {\n",
    "          name\n",
    "          url\n",
    "          issues(states: OPEN) {\n",
    "            totalCount\n",
    "          }\n",
    "          pullRequests(states: OPEN) {\n",
    "            totalCount\n",
    "          }\n",
    "        }\n",
    "      }\n",
    "    }\n",
    "  }\n",
    "}\n",
    "\"\"\""
   ]
  },
  {
   "cell_type": "code",
   "execution_count": 5,
   "metadata": {},
   "outputs": [],
   "source": [
    "# submit the request\n",
    "r = requests.post(url=url, json={'query': query}, headers=headers)"
   ]
  },
  {
   "cell_type": "code",
   "execution_count": 28,
   "metadata": {},
   "outputs": [
    {
     "data": {
      "text/plain": [
       "'{\"data\":{\"organization\":{\"repositories\":{\"totalCount\":27,\"edges\":[{\"node\":{\"name\":\"jupyterhub\",\"url\":\"https://github.com/jupyterhub/jupyterhub\",\"issues\":{\"totalCount\":143},\"pullRequests\":{\"totalCount\":6}}},{\"node\":{\"name\":\"configurable-http-proxy\",\"url\":\"https://github.com/jupyterhub/configurable-http-proxy\",\"issues\":{\"totalCount\":10},\"pullRequests\":{\"totalCount\":0}}},{\"node\":{\"name\":\"oauthenticator\",\"url\":\"https://github.com/jupyterhub/oauthenticator\",\"issues\":{\"totalCount\":13},\"pullRequests\":{\"totalCount\":2}}},{\"node\":{\"name\":\"dockerspawner\",\"url\":\"https://github.com/jupyterhub/dockerspawner\",\"issues\":{\"totalCount\":22},\"pullRequests\":{\"totalCount\":1}}},{\"node\":{\"name\":\"sudospawner\",\"url\":\"https://github.com/jupyterhub/sudospawner\",\"issues\":{\"totalCount\":2},\"pullRequests\":{\"totalCount\":0}}},{\"node\":{\"name\":\"batchspawner\",\"url\":\"https://github.com/jupyterhub/batchspawner\",\"issues\":{\"totalCount\":12},\"pullRequests\":{\"totalCount\":5}}},{\"node\":{\"name\":\"kubespawner\",\"url\":\"https://github.com/jupyterhub/kubespawner\",\"issues\":{\"totalCount\":25},\"pullRequests\":{\"totalCount\":3}}},{\"node\":{\"name\":\"ldapauthenticator\",\"url\":\"https://github.com/jupyterhub/ldapauthenticator\",\"issues\":{\"totalCount\":18},\"pullRequests\":{\"totalCount\":2}}},{\"node\":{\"name\":\"jupyterhub-deploy-docker\",\"url\":\"https://github.com/jupyterhub/jupyterhub-deploy-docker\",\"issues\":{\"totalCount\":9},\"pullRequests\":{\"totalCount\":1}}},{\"node\":{\"name\":\"jupyterhub-deploy-teaching\",\"url\":\"https://github.com/jupyterhub/jupyterhub-deploy-teaching\",\"issues\":{\"totalCount\":13},\"pullRequests\":{\"totalCount\":2}}},{\"node\":{\"name\":\"jupyterhub-tutorial\",\"url\":\"https://github.com/jupyterhub/jupyterhub-tutorial\",\"issues\":{\"totalCount\":5},\"pullRequests\":{\"totalCount\":0}}},{\"node\":{\"name\":\"jupyterhub-deploy-hpc\",\"url\":\"https://github.com/jupyterhub/jupyterhub-deploy-hpc\",\"issues\":{\"totalCount\":2},\"pullRequests\":{\"totalCount\":0}}},{\"node\":{\"name\":\"systemdspawner\",\"url\":\"https://github.com/jupyterhub/systemdspawner\",\"issues\":{\"totalCount\":4},\"pullRequests\":{\"totalCount\":2}}},{\"node\":{\"name\":\"wrapspawner\",\"url\":\"https://github.com/jupyterhub/wrapspawner\",\"issues\":{\"totalCount\":5},\"pullRequests\":{\"totalCount\":1}}},{\"node\":{\"name\":\"jupyterlab-hub\",\"url\":\"https://github.com/jupyterhub/jupyterlab-hub\",\"issues\":{\"totalCount\":4},\"pullRequests\":{\"totalCount\":0}}},{\"node\":{\"name\":\"nbserverproxy\",\"url\":\"https://github.com/jupyterhub/nbserverproxy\",\"issues\":{\"totalCount\":2},\"pullRequests\":{\"totalCount\":1}}},{\"node\":{\"name\":\"jupyterhub-example-kerberos\",\"url\":\"https://github.com/jupyterhub/jupyterhub-example-kerberos\",\"issues\":{\"totalCount\":3},\"pullRequests\":{\"totalCount\":0}}},{\"node\":{\"name\":\"hubshare\",\"url\":\"https://github.com/jupyterhub/hubshare\",\"issues\":{\"totalCount\":10},\"pullRequests\":{\"totalCount\":0}}},{\"node\":{\"name\":\"nbrsessionproxy\",\"url\":\"https://github.com/jupyterhub/nbrsessionproxy\",\"issues\":{\"totalCount\":4},\"pullRequests\":{\"totalCount\":2}}},{\"node\":{\"name\":\"tmpauthenticator\",\"url\":\"https://github.com/jupyterhub/tmpauthenticator\",\"issues\":{\"totalCount\":0},\"pullRequests\":{\"totalCount\":0}}},{\"node\":{\"name\":\"zero-to-jupyterhub-k8s\",\"url\":\"https://github.com/jupyterhub/zero-to-jupyterhub-k8s\",\"issues\":{\"totalCount\":89},\"pullRequests\":{\"totalCount\":3}}},{\"node\":{\"name\":\"helm-chart\",\"url\":\"https://github.com/jupyterhub/helm-chart\",\"issues\":{\"totalCount\":3},\"pullRequests\":{\"totalCount\":0}}},{\"node\":{\"name\":\"binderhub\",\"url\":\"https://github.com/jupyterhub/binderhub\",\"issues\":{\"totalCount\":77},\"pullRequests\":{\"totalCount\":6}}},{\"node\":{\"name\":\"mybinder.org-deploy\",\"url\":\"https://github.com/jupyterhub/mybinder.org-deploy\",\"issues\":{\"totalCount\":24},\"pullRequests\":{\"totalCount\":1}}},{\"node\":{\"name\":\"binder\",\"url\":\"https://github.com/jupyterhub/binder\",\"issues\":{\"totalCount\":10},\"pullRequests\":{\"totalCount\":1}}},{\"node\":{\"name\":\"nullauthenticator\",\"url\":\"https://github.com/jupyterhub/nullauthenticator\",\"issues\":{\"totalCount\":0},\"pullRequests\":{\"totalCount\":0}}},{\"node\":{\"name\":\"team-compass\",\"url\":\"https://github.com/jupyterhub/team-compass\",\"issues\":{\"totalCount\":2},\"pullRequests\":{\"totalCount\":1}}}]}}}}'"
      ]
     },
     "execution_count": 28,
     "metadata": {},
     "output_type": "execute_result"
    }
   ],
   "source": [
    "r.text"
   ]
  },
  {
   "cell_type": "code",
   "execution_count": 27,
   "metadata": {},
   "outputs": [
    {
     "data": {
      "text/plain": [
       "{'data': {'organization': {'repositories': {'edges': [{'node': {'issues': {'totalCount': 143},\n",
       "       'name': 'jupyterhub',\n",
       "       'pullRequests': {'totalCount': 6},\n",
       "       'url': 'https://github.com/jupyterhub/jupyterhub'}},\n",
       "     {'node': {'issues': {'totalCount': 10},\n",
       "       'name': 'configurable-http-proxy',\n",
       "       'pullRequests': {'totalCount': 0},\n",
       "       'url': 'https://github.com/jupyterhub/configurable-http-proxy'}},\n",
       "     {'node': {'issues': {'totalCount': 13},\n",
       "       'name': 'oauthenticator',\n",
       "       'pullRequests': {'totalCount': 2},\n",
       "       'url': 'https://github.com/jupyterhub/oauthenticator'}},\n",
       "     {'node': {'issues': {'totalCount': 22},\n",
       "       'name': 'dockerspawner',\n",
       "       'pullRequests': {'totalCount': 1},\n",
       "       'url': 'https://github.com/jupyterhub/dockerspawner'}},\n",
       "     {'node': {'issues': {'totalCount': 2},\n",
       "       'name': 'sudospawner',\n",
       "       'pullRequests': {'totalCount': 0},\n",
       "       'url': 'https://github.com/jupyterhub/sudospawner'}},\n",
       "     {'node': {'issues': {'totalCount': 12},\n",
       "       'name': 'batchspawner',\n",
       "       'pullRequests': {'totalCount': 5},\n",
       "       'url': 'https://github.com/jupyterhub/batchspawner'}},\n",
       "     {'node': {'issues': {'totalCount': 25},\n",
       "       'name': 'kubespawner',\n",
       "       'pullRequests': {'totalCount': 3},\n",
       "       'url': 'https://github.com/jupyterhub/kubespawner'}},\n",
       "     {'node': {'issues': {'totalCount': 18},\n",
       "       'name': 'ldapauthenticator',\n",
       "       'pullRequests': {'totalCount': 2},\n",
       "       'url': 'https://github.com/jupyterhub/ldapauthenticator'}},\n",
       "     {'node': {'issues': {'totalCount': 9},\n",
       "       'name': 'jupyterhub-deploy-docker',\n",
       "       'pullRequests': {'totalCount': 1},\n",
       "       'url': 'https://github.com/jupyterhub/jupyterhub-deploy-docker'}},\n",
       "     {'node': {'issues': {'totalCount': 13},\n",
       "       'name': 'jupyterhub-deploy-teaching',\n",
       "       'pullRequests': {'totalCount': 2},\n",
       "       'url': 'https://github.com/jupyterhub/jupyterhub-deploy-teaching'}},\n",
       "     {'node': {'issues': {'totalCount': 5},\n",
       "       'name': 'jupyterhub-tutorial',\n",
       "       'pullRequests': {'totalCount': 0},\n",
       "       'url': 'https://github.com/jupyterhub/jupyterhub-tutorial'}},\n",
       "     {'node': {'issues': {'totalCount': 2},\n",
       "       'name': 'jupyterhub-deploy-hpc',\n",
       "       'pullRequests': {'totalCount': 0},\n",
       "       'url': 'https://github.com/jupyterhub/jupyterhub-deploy-hpc'}},\n",
       "     {'node': {'issues': {'totalCount': 4},\n",
       "       'name': 'systemdspawner',\n",
       "       'pullRequests': {'totalCount': 2},\n",
       "       'url': 'https://github.com/jupyterhub/systemdspawner'}},\n",
       "     {'node': {'issues': {'totalCount': 5},\n",
       "       'name': 'wrapspawner',\n",
       "       'pullRequests': {'totalCount': 1},\n",
       "       'url': 'https://github.com/jupyterhub/wrapspawner'}},\n",
       "     {'node': {'issues': {'totalCount': 4},\n",
       "       'name': 'jupyterlab-hub',\n",
       "       'pullRequests': {'totalCount': 0},\n",
       "       'url': 'https://github.com/jupyterhub/jupyterlab-hub'}},\n",
       "     {'node': {'issues': {'totalCount': 2},\n",
       "       'name': 'nbserverproxy',\n",
       "       'pullRequests': {'totalCount': 1},\n",
       "       'url': 'https://github.com/jupyterhub/nbserverproxy'}},\n",
       "     {'node': {'issues': {'totalCount': 3},\n",
       "       'name': 'jupyterhub-example-kerberos',\n",
       "       'pullRequests': {'totalCount': 0},\n",
       "       'url': 'https://github.com/jupyterhub/jupyterhub-example-kerberos'}},\n",
       "     {'node': {'issues': {'totalCount': 10},\n",
       "       'name': 'hubshare',\n",
       "       'pullRequests': {'totalCount': 0},\n",
       "       'url': 'https://github.com/jupyterhub/hubshare'}},\n",
       "     {'node': {'issues': {'totalCount': 4},\n",
       "       'name': 'nbrsessionproxy',\n",
       "       'pullRequests': {'totalCount': 2},\n",
       "       'url': 'https://github.com/jupyterhub/nbrsessionproxy'}},\n",
       "     {'node': {'issues': {'totalCount': 0},\n",
       "       'name': 'tmpauthenticator',\n",
       "       'pullRequests': {'totalCount': 0},\n",
       "       'url': 'https://github.com/jupyterhub/tmpauthenticator'}},\n",
       "     {'node': {'issues': {'totalCount': 89},\n",
       "       'name': 'zero-to-jupyterhub-k8s',\n",
       "       'pullRequests': {'totalCount': 3},\n",
       "       'url': 'https://github.com/jupyterhub/zero-to-jupyterhub-k8s'}},\n",
       "     {'node': {'issues': {'totalCount': 3},\n",
       "       'name': 'helm-chart',\n",
       "       'pullRequests': {'totalCount': 0},\n",
       "       'url': 'https://github.com/jupyterhub/helm-chart'}},\n",
       "     {'node': {'issues': {'totalCount': 77},\n",
       "       'name': 'binderhub',\n",
       "       'pullRequests': {'totalCount': 6},\n",
       "       'url': 'https://github.com/jupyterhub/binderhub'}},\n",
       "     {'node': {'issues': {'totalCount': 24},\n",
       "       'name': 'mybinder.org-deploy',\n",
       "       'pullRequests': {'totalCount': 1},\n",
       "       'url': 'https://github.com/jupyterhub/mybinder.org-deploy'}},\n",
       "     {'node': {'issues': {'totalCount': 10},\n",
       "       'name': 'binder',\n",
       "       'pullRequests': {'totalCount': 1},\n",
       "       'url': 'https://github.com/jupyterhub/binder'}},\n",
       "     {'node': {'issues': {'totalCount': 0},\n",
       "       'name': 'nullauthenticator',\n",
       "       'pullRequests': {'totalCount': 0},\n",
       "       'url': 'https://github.com/jupyterhub/nullauthenticator'}},\n",
       "     {'node': {'issues': {'totalCount': 2},\n",
       "       'name': 'team-compass',\n",
       "       'pullRequests': {'totalCount': 1},\n",
       "       'url': 'https://github.com/jupyterhub/team-compass'}}],\n",
       "    'totalCount': 27}}}}"
      ]
     },
     "execution_count": 27,
     "metadata": {},
     "output_type": "execute_result"
    }
   ],
   "source": [
    "data = json.loads(r.text)"
   ]
  },
  {
   "cell_type": "code",
   "execution_count": 1,
   "metadata": {},
   "outputs": [],
   "source": [
    "import requests\n",
    "import json\n",
    "from itertools import zip_longest\n",
    "import pandas as pd\n",
    "import numpy as np"
   ]
  },
  {
   "cell_type": "code",
   "execution_count": 2,
   "metadata": {},
   "outputs": [],
   "source": [
    "#This is a little helper funciton that will take x of something, and let you chunk through a subset\n",
    "#Note that 'n' is the chunk size\n",
    "def _grouper(n, iterable, fillvalue=None):\n",
    "    args = [iter(iterable)] * n\n",
    "    return zip_longest(fillvalue=fillvalue, *args)"
   ]
  },
  {
   "cell_type": "code",
   "execution_count": 22,
   "metadata": {},
   "outputs": [],
   "source": [
    "#Since you want a report by month, lets just create a function to get all the chat IDs for a two digit month and 4 digit year\n",
    "\n",
    "def get_ids(data):\n",
    "    all_ids = []\n",
    "    response = json.loads(data)\n",
    "    for id in response['data']:\n",
    "        all_ids.append('id')\n",
    "    return all_ids"
   ]
  },
  {
   "cell_type": "code",
   "execution_count": 62,
   "metadata": {},
   "outputs": [
    {
     "name": "stdout",
     "output_type": "stream",
     "text": [
      "organization\n",
      "repositories\n",
      "['organization', 'repositories']\n",
      "totalCount\n",
      "edges\n",
      "['organization', 'repositories', 'totalCount', 'edges']\n"
     ]
    },
    {
     "ename": "KeyError",
     "evalue": "'edges'",
     "output_type": "error",
     "traceback": [
      "\u001b[0;31m---------------------------------------------------------------------------\u001b[0m",
      "\u001b[0;31mKeyError\u001b[0m                                  Traceback (most recent call last)",
      "\u001b[0;32m<ipython-input-62-cfdc3560312c>\u001b[0m in \u001b[0;36m<module>\u001b[0;34m()\u001b[0m\n\u001b[1;32m     14\u001b[0m \u001b[0;34m\u001b[0m\u001b[0m\n\u001b[1;32m     15\u001b[0m     \u001b[0mprint\u001b[0m\u001b[0;34m(\u001b[0m\u001b[0mall_ids\u001b[0m\u001b[0;34m)\u001b[0m\u001b[0;34m\u001b[0m\u001b[0m\n\u001b[0;32m---> 16\u001b[0;31m     \u001b[0mprint\u001b[0m\u001b[0;34m(\u001b[0m\u001b[0mdata\u001b[0m\u001b[0;34m[\u001b[0m\u001b[0;34m'data'\u001b[0m\u001b[0;34m]\u001b[0m\u001b[0;34m[\u001b[0m\u001b[0;34m'edges'\u001b[0m\u001b[0;34m]\u001b[0m\u001b[0;34m)\u001b[0m\u001b[0;34m\u001b[0m\u001b[0m\n\u001b[0m",
      "\u001b[0;31mKeyError\u001b[0m: 'edges'"
     ]
    }
   ],
   "source": [
    "all_ids = []\n",
    "for id in data['data']:\n",
    "    print(id)\n",
    "    all_ids.append(id)\n",
    "    \n",
    "    for id in data['data'][all_ids[0]]:\n",
    "        print(id)\n",
    "        all_ids.append(id)\n",
    "        print(all_ids)\n",
    "        \n",
    "    for id in data['data'][all_ids[0]][all_ids[1]]:\n",
    "        print(id)\n",
    "        all_ids.append(id)\n",
    "    \n",
    "    print(all_ids)\n",
    "    print(data['data']['edges'])\n"
   ]
  },
  {
   "cell_type": "code",
   "execution_count": 4,
   "metadata": {},
   "outputs": [],
   "source": [
    "def build_csv_data(queried_id_list):\n",
    "  all_chats_for_csv = []\n",
    "  for chunk in _grouper(50, queried_id_list):\n",
    "    filtered = [id for id in chunk if id is not None] #Only needed for last set of 50 that will have some sort of remainder filled with 'None' values by the grouper() function\n",
    "    url = \"{0}/chats\".format(config['base_path'])\n",
    "    stringified_ids = \",\".join(filtered)\n",
    "    params = {\"ids\":stringified_ids}\n",
    "    r = s.get(url, params=params)\n",
    "    if r.status_code == 200:\n",
    "      response = json.loads(r.text)\n",
    "      docs = response['docs']\n",
    "      for k in docs:\n",
    "        doc_obj = docs[k] #This is the 'doc' object. Note that some keys may not exist for all items. Duration does not exist for offline messages for example\n",
    "        all_chats_for_csv.append(doc_obj)\n",
    "    else:\n",
    "      print(\"error getting bulk chats\")\n",
    "  return all_chats_for_csv"
   ]
  },
  {
   "cell_type": "code",
   "execution_count": 7,
   "metadata": {},
   "outputs": [],
   "source": [
    "#grab the ids for the specified range NOTE!! This is where you can change the year/month for the date range.\n",
    "queried_id_list = get_chat_ids_for_month(2016, 10)\n",
    "\n",
    "#turn those into raw objects\n",
    "csv_obj_data = build_csv_data(queried_id_list)\n",
    "\n",
    "#create a list to hold our rows\n",
    "all_rows_as_obj = []\n",
    "\n",
    "#turn the raw objects into nice and tasty ones that pandas can digest\n",
    "for record in csv_obj_data:\n",
    "  try:\n",
    "    response_time = record.get('response_time', {})\n",
    "    count = record.get('count',{})\n",
    "    csv_obj = {\n",
    "      \"id\": record['id'],\n",
    "      \"agent\": \",\".join(record.get('agent_names', \"N/A\")),\n",
    "      \"visitor\": record['visitor']['name'],\n",
    "      \"department\": record['department_name'],\n",
    "      \"url\": record.get('webpath', \"N/A\"),\n",
    "      \"missed\": record.get('missed', \"N/A\"),\n",
    "      \"resp_first\": response_time.get('first', []),\n",
    "      \"resp_max\": response_time.get('max', []),\n",
    "      \"resp_avg\": response_time.get('avg', []),\n",
    "      \"start timestamp\": record['session']['start_date'],\n",
    "      \"end timestamp\": record['session']['end_date'],\n",
    "      \"total messages\": count.get('total', 0),\n",
    "      \"Agent Msg Count\": count.get('agent', 0),\n",
    "      \"Visitor Msg Count\": count.get('visitor', 0),\n",
    "      \"rating\": record.get('rating',[]),\n",
    "      \"ticket_id\": record['zendesk_ticket_id']\n",
    "    }\n",
    "  except KeyError as e:\n",
    "    print(e)\n",
    "    print(\"key error occured for record with id: {}\".format(record['id']))\n",
    "    print(record)\n",
    "    pass\n",
    "  all_rows_as_obj.append(csv_obj)\n",
    "\n",
    "#with prettier objects our column names can just come from a call to the first object's keys\n",
    "col_keys = all_rows_as_obj[0].keys()\n",
    "\n",
    "#create the dataframe, list comprehension creates an array of rows based on the column names we got\n",
    "#Let pandas do the hard part with csvs\n",
    "csv_frame = pd.DataFrame([[i[j] for j in col_keys] for i in all_rows_as_obj], columns=col_keys)\n",
    "\n",
    "#coerce ticket_id to be int not float\n",
    "csv_frame['ticket_id'] = csv_frame['ticket_id'].fillna(0).astype(np.int64)\n",
    "\n",
    "#fill blank values with the string 'N/A'\n",
    "csv_frame = csv_frame.fillna(\"N/A\")\n",
    "\n",
    "#output to a file\n",
    "csv_frame.to_csv('october_stats.csv')"
   ]
  },
  {
   "cell_type": "markdown",
   "metadata": {},
   "source": [
    "Walk the JSON response contents"
   ]
  },
  {
   "cell_type": "code",
   "execution_count": 8,
   "metadata": {},
   "outputs": [],
   "source": [
    "issue_data = data['data']"
   ]
  },
  {
   "cell_type": "code",
   "execution_count": 9,
   "metadata": {},
   "outputs": [],
   "source": [
    "org = issue_data['organization']"
   ]
  },
  {
   "cell_type": "code",
   "execution_count": 10,
   "metadata": {},
   "outputs": [],
   "source": [
    "repos = org['repositories']"
   ]
  },
  {
   "cell_type": "code",
   "execution_count": 11,
   "metadata": {},
   "outputs": [],
   "source": [
    "edges = repos['edges']"
   ]
  },
  {
   "cell_type": "code",
   "execution_count": 12,
   "metadata": {},
   "outputs": [],
   "source": [
    "# edges[0]['node']"
   ]
  },
  {
   "cell_type": "code",
   "execution_count": 13,
   "metadata": {},
   "outputs": [],
   "source": [
    "# print(edges[0]['node']['name'] + '---' + edges[0]['node']['url'])"
   ]
  },
  {
   "cell_type": "code",
   "execution_count": 14,
   "metadata": {},
   "outputs": [],
   "source": [
    "# for edge in edges:\n",
    "#    pprint.pprint(edge)"
   ]
  },
  {
   "cell_type": "markdown",
   "metadata": {},
   "source": [
    "Bring into pandas"
   ]
  },
  {
   "cell_type": "code",
   "execution_count": 15,
   "metadata": {},
   "outputs": [],
   "source": [
    "import pandas as pd"
   ]
  },
  {
   "cell_type": "code",
   "execution_count": 16,
   "metadata": {},
   "outputs": [],
   "source": [
    "df = pd.DataFrame.from_records(edges)"
   ]
  },
  {
   "cell_type": "code",
   "execution_count": 17,
   "metadata": {},
   "outputs": [
    {
     "data": {
      "text/plain": [
       "Index(['node'], dtype='object')"
      ]
     },
     "execution_count": 17,
     "metadata": {},
     "output_type": "execute_result"
    }
   ],
   "source": [
    "df.columns"
   ]
  },
  {
   "cell_type": "code",
   "execution_count": 18,
   "metadata": {},
   "outputs": [],
   "source": [
    "# df['node']"
   ]
  },
  {
   "cell_type": "markdown",
   "metadata": {},
   "source": [
    "Generate basic report of total open issues"
   ]
  },
  {
   "cell_type": "code",
   "execution_count": 19,
   "metadata": {},
   "outputs": [
    {
     "name": "stdout",
     "output_type": "stream",
     "text": [
      "Repo                           OpenIssues  OpenPRs   URL\n",
      "team-compass                          2        1     https://github.com/jupyterhub/team-compass\n",
      "nullauthenticator                     0        0     https://github.com/jupyterhub/nullauthenticator\n",
      "binder                               10        1     https://github.com/jupyterhub/binder\n",
      "mybinder.org-deploy                  24        1     https://github.com/jupyterhub/mybinder.org-deploy\n",
      "binderhub                            77        6     https://github.com/jupyterhub/binderhub\n",
      "helm-chart                            3        0     https://github.com/jupyterhub/helm-chart\n",
      "zero-to-jupyterhub-k8s               89        3     https://github.com/jupyterhub/zero-to-jupyterhub-k8s\n",
      "tmpauthenticator                      0        0     https://github.com/jupyterhub/tmpauthenticator\n",
      "nbrsessionproxy                       4        2     https://github.com/jupyterhub/nbrsessionproxy\n",
      "hubshare                             10        0     https://github.com/jupyterhub/hubshare\n",
      "jupyterhub-example-kerberos           3        0     https://github.com/jupyterhub/jupyterhub-example-kerberos\n",
      "nbserverproxy                         2        1     https://github.com/jupyterhub/nbserverproxy\n",
      "jupyterlab-hub                        4        0     https://github.com/jupyterhub/jupyterlab-hub\n",
      "wrapspawner                           5        1     https://github.com/jupyterhub/wrapspawner\n",
      "systemdspawner                        4        2     https://github.com/jupyterhub/systemdspawner\n",
      "jupyterhub-deploy-hpc                 2        0     https://github.com/jupyterhub/jupyterhub-deploy-hpc\n",
      "jupyterhub-tutorial                   5        0     https://github.com/jupyterhub/jupyterhub-tutorial\n",
      "jupyterhub-deploy-teaching           13        2     https://github.com/jupyterhub/jupyterhub-deploy-teaching\n",
      "jupyterhub-deploy-docker              9        1     https://github.com/jupyterhub/jupyterhub-deploy-docker\n",
      "ldapauthenticator                    18        2     https://github.com/jupyterhub/ldapauthenticator\n",
      "kubespawner                          25        3     https://github.com/jupyterhub/kubespawner\n",
      "batchspawner                         12        5     https://github.com/jupyterhub/batchspawner\n",
      "sudospawner                           2        0     https://github.com/jupyterhub/sudospawner\n",
      "dockerspawner                        22        1     https://github.com/jupyterhub/dockerspawner\n",
      "oauthenticator                       13        2     https://github.com/jupyterhub/oauthenticator\n",
      "configurable-http-proxy              10        0     https://github.com/jupyterhub/configurable-http-proxy\n"
     ]
    }
   ],
   "source": [
    "print(f\"{'Repo':30} {'OpenIssues':11} {'OpenPRs':9} {'URL'}\")\n",
    "\n",
    "line = 26\n",
    "while line > 0:\n",
    "    lineout = f\"{df['node'][line]['name']:30} {(df['node'][line]['issues']['totalCount']):8} {(df['node'][line]['pullRequests']['totalCount']):8}     {df['node'][line]['url']}\"\n",
    "    print(lineout)\n",
    "    line -= 1"
   ]
  },
  {
   "cell_type": "code",
   "execution_count": 20,
   "metadata": {},
   "outputs": [
    {
     "data": {
      "text/plain": [
       "node    object\n",
       "dtype: object"
      ]
     },
     "execution_count": 20,
     "metadata": {},
     "output_type": "execute_result"
    }
   ],
   "source": [
    "df.dtypes"
   ]
  },
  {
   "cell_type": "code",
   "execution_count": 21,
   "metadata": {},
   "outputs": [
    {
     "data": {
      "text/html": [
       "<div>\n",
       "<style scoped>\n",
       "    .dataframe tbody tr th:only-of-type {\n",
       "        vertical-align: middle;\n",
       "    }\n",
       "\n",
       "    .dataframe tbody tr th {\n",
       "        vertical-align: top;\n",
       "    }\n",
       "\n",
       "    .dataframe thead th {\n",
       "        text-align: right;\n",
       "    }\n",
       "</style>\n",
       "<table border=\"1\" class=\"dataframe\">\n",
       "  <thead>\n",
       "    <tr style=\"text-align: right;\">\n",
       "      <th></th>\n",
       "      <th>node</th>\n",
       "    </tr>\n",
       "  </thead>\n",
       "  <tbody>\n",
       "    <tr>\n",
       "      <th>0</th>\n",
       "      <td>{'name': 'jupyterhub', 'url': 'https://github....</td>\n",
       "    </tr>\n",
       "    <tr>\n",
       "      <th>1</th>\n",
       "      <td>{'name': 'configurable-http-proxy', 'url': 'ht...</td>\n",
       "    </tr>\n",
       "    <tr>\n",
       "      <th>2</th>\n",
       "      <td>{'name': 'oauthenticator', 'url': 'https://git...</td>\n",
       "    </tr>\n",
       "    <tr>\n",
       "      <th>3</th>\n",
       "      <td>{'name': 'dockerspawner', 'url': 'https://gith...</td>\n",
       "    </tr>\n",
       "    <tr>\n",
       "      <th>4</th>\n",
       "      <td>{'name': 'sudospawner', 'url': 'https://github...</td>\n",
       "    </tr>\n",
       "  </tbody>\n",
       "</table>\n",
       "</div>"
      ],
      "text/plain": [
       "                                                node\n",
       "0  {'name': 'jupyterhub', 'url': 'https://github....\n",
       "1  {'name': 'configurable-http-proxy', 'url': 'ht...\n",
       "2  {'name': 'oauthenticator', 'url': 'https://git...\n",
       "3  {'name': 'dockerspawner', 'url': 'https://gith...\n",
       "4  {'name': 'sudospawner', 'url': 'https://github..."
      ]
     },
     "execution_count": 21,
     "metadata": {},
     "output_type": "execute_result"
    }
   ],
   "source": [
    "df.head()"
   ]
  },
  {
   "cell_type": "code",
   "execution_count": 22,
   "metadata": {},
   "outputs": [
    {
     "data": {
      "text/plain": [
       "RangeIndex(start=0, stop=27, step=1)"
      ]
     },
     "execution_count": 22,
     "metadata": {},
     "output_type": "execute_result"
    }
   ],
   "source": [
    "df.index"
   ]
  },
  {
   "cell_type": "code",
   "execution_count": 23,
   "metadata": {},
   "outputs": [
    {
     "data": {
      "text/plain": [
       "Index(['node'], dtype='object')"
      ]
     },
     "execution_count": 23,
     "metadata": {},
     "output_type": "execute_result"
    }
   ],
   "source": [
    "df.columns"
   ]
  },
  {
   "cell_type": "code",
   "execution_count": 24,
   "metadata": {},
   "outputs": [
    {
     "data": {
      "text/plain": [
       "array([[ {'name': 'jupyterhub', 'url': 'https://github.com/jupyterhub/jupyterhub', 'issues': {'totalCount': 143}, 'pullRequests': {'totalCount': 6}}],\n",
       "       [ {'name': 'configurable-http-proxy', 'url': 'https://github.com/jupyterhub/configurable-http-proxy', 'issues': {'totalCount': 10}, 'pullRequests': {'totalCount': 0}}],\n",
       "       [ {'name': 'oauthenticator', 'url': 'https://github.com/jupyterhub/oauthenticator', 'issues': {'totalCount': 13}, 'pullRequests': {'totalCount': 2}}],\n",
       "       [ {'name': 'dockerspawner', 'url': 'https://github.com/jupyterhub/dockerspawner', 'issues': {'totalCount': 22}, 'pullRequests': {'totalCount': 1}}],\n",
       "       [ {'name': 'sudospawner', 'url': 'https://github.com/jupyterhub/sudospawner', 'issues': {'totalCount': 2}, 'pullRequests': {'totalCount': 0}}],\n",
       "       [ {'name': 'batchspawner', 'url': 'https://github.com/jupyterhub/batchspawner', 'issues': {'totalCount': 12}, 'pullRequests': {'totalCount': 5}}],\n",
       "       [ {'name': 'kubespawner', 'url': 'https://github.com/jupyterhub/kubespawner', 'issues': {'totalCount': 25}, 'pullRequests': {'totalCount': 3}}],\n",
       "       [ {'name': 'ldapauthenticator', 'url': 'https://github.com/jupyterhub/ldapauthenticator', 'issues': {'totalCount': 18}, 'pullRequests': {'totalCount': 2}}],\n",
       "       [ {'name': 'jupyterhub-deploy-docker', 'url': 'https://github.com/jupyterhub/jupyterhub-deploy-docker', 'issues': {'totalCount': 9}, 'pullRequests': {'totalCount': 1}}],\n",
       "       [ {'name': 'jupyterhub-deploy-teaching', 'url': 'https://github.com/jupyterhub/jupyterhub-deploy-teaching', 'issues': {'totalCount': 13}, 'pullRequests': {'totalCount': 2}}],\n",
       "       [ {'name': 'jupyterhub-tutorial', 'url': 'https://github.com/jupyterhub/jupyterhub-tutorial', 'issues': {'totalCount': 5}, 'pullRequests': {'totalCount': 0}}],\n",
       "       [ {'name': 'jupyterhub-deploy-hpc', 'url': 'https://github.com/jupyterhub/jupyterhub-deploy-hpc', 'issues': {'totalCount': 2}, 'pullRequests': {'totalCount': 0}}],\n",
       "       [ {'name': 'systemdspawner', 'url': 'https://github.com/jupyterhub/systemdspawner', 'issues': {'totalCount': 4}, 'pullRequests': {'totalCount': 2}}],\n",
       "       [ {'name': 'wrapspawner', 'url': 'https://github.com/jupyterhub/wrapspawner', 'issues': {'totalCount': 5}, 'pullRequests': {'totalCount': 1}}],\n",
       "       [ {'name': 'jupyterlab-hub', 'url': 'https://github.com/jupyterhub/jupyterlab-hub', 'issues': {'totalCount': 4}, 'pullRequests': {'totalCount': 0}}],\n",
       "       [ {'name': 'nbserverproxy', 'url': 'https://github.com/jupyterhub/nbserverproxy', 'issues': {'totalCount': 2}, 'pullRequests': {'totalCount': 1}}],\n",
       "       [ {'name': 'jupyterhub-example-kerberos', 'url': 'https://github.com/jupyterhub/jupyterhub-example-kerberos', 'issues': {'totalCount': 3}, 'pullRequests': {'totalCount': 0}}],\n",
       "       [ {'name': 'hubshare', 'url': 'https://github.com/jupyterhub/hubshare', 'issues': {'totalCount': 10}, 'pullRequests': {'totalCount': 0}}],\n",
       "       [ {'name': 'nbrsessionproxy', 'url': 'https://github.com/jupyterhub/nbrsessionproxy', 'issues': {'totalCount': 4}, 'pullRequests': {'totalCount': 2}}],\n",
       "       [ {'name': 'tmpauthenticator', 'url': 'https://github.com/jupyterhub/tmpauthenticator', 'issues': {'totalCount': 0}, 'pullRequests': {'totalCount': 0}}],\n",
       "       [ {'name': 'zero-to-jupyterhub-k8s', 'url': 'https://github.com/jupyterhub/zero-to-jupyterhub-k8s', 'issues': {'totalCount': 89}, 'pullRequests': {'totalCount': 3}}],\n",
       "       [ {'name': 'helm-chart', 'url': 'https://github.com/jupyterhub/helm-chart', 'issues': {'totalCount': 3}, 'pullRequests': {'totalCount': 0}}],\n",
       "       [ {'name': 'binderhub', 'url': 'https://github.com/jupyterhub/binderhub', 'issues': {'totalCount': 77}, 'pullRequests': {'totalCount': 6}}],\n",
       "       [ {'name': 'mybinder.org-deploy', 'url': 'https://github.com/jupyterhub/mybinder.org-deploy', 'issues': {'totalCount': 24}, 'pullRequests': {'totalCount': 1}}],\n",
       "       [ {'name': 'binder', 'url': 'https://github.com/jupyterhub/binder', 'issues': {'totalCount': 10}, 'pullRequests': {'totalCount': 1}}],\n",
       "       [ {'name': 'nullauthenticator', 'url': 'https://github.com/jupyterhub/nullauthenticator', 'issues': {'totalCount': 0}, 'pullRequests': {'totalCount': 0}}],\n",
       "       [ {'name': 'team-compass', 'url': 'https://github.com/jupyterhub/team-compass', 'issues': {'totalCount': 2}, 'pullRequests': {'totalCount': 1}}]], dtype=object)"
      ]
     },
     "execution_count": 24,
     "metadata": {},
     "output_type": "execute_result"
    }
   ],
   "source": [
    "df.values"
   ]
  },
  {
   "cell_type": "code",
   "execution_count": 25,
   "metadata": {},
   "outputs": [
    {
     "data": {
      "text/plain": [
       "<bound method DataFrame.sort_index of                                                  node\n",
       "0   {'name': 'jupyterhub', 'url': 'https://github....\n",
       "1   {'name': 'configurable-http-proxy', 'url': 'ht...\n",
       "2   {'name': 'oauthenticator', 'url': 'https://git...\n",
       "3   {'name': 'dockerspawner', 'url': 'https://gith...\n",
       "4   {'name': 'sudospawner', 'url': 'https://github...\n",
       "5   {'name': 'batchspawner', 'url': 'https://githu...\n",
       "6   {'name': 'kubespawner', 'url': 'https://github...\n",
       "7   {'name': 'ldapauthenticator', 'url': 'https://...\n",
       "8   {'name': 'jupyterhub-deploy-docker', 'url': 'h...\n",
       "9   {'name': 'jupyterhub-deploy-teaching', 'url': ...\n",
       "10  {'name': 'jupyterhub-tutorial', 'url': 'https:...\n",
       "11  {'name': 'jupyterhub-deploy-hpc', 'url': 'http...\n",
       "12  {'name': 'systemdspawner', 'url': 'https://git...\n",
       "13  {'name': 'wrapspawner', 'url': 'https://github...\n",
       "14  {'name': 'jupyterlab-hub', 'url': 'https://git...\n",
       "15  {'name': 'nbserverproxy', 'url': 'https://gith...\n",
       "16  {'name': 'jupyterhub-example-kerberos', 'url':...\n",
       "17  {'name': 'hubshare', 'url': 'https://github.co...\n",
       "18  {'name': 'nbrsessionproxy', 'url': 'https://gi...\n",
       "19  {'name': 'tmpauthenticator', 'url': 'https://g...\n",
       "20  {'name': 'zero-to-jupyterhub-k8s', 'url': 'htt...\n",
       "21  {'name': 'helm-chart', 'url': 'https://github....\n",
       "22  {'name': 'binderhub', 'url': 'https://github.c...\n",
       "23  {'name': 'mybinder.org-deploy', 'url': 'https:...\n",
       "24  {'name': 'binder', 'url': 'https://github.com/...\n",
       "25  {'name': 'nullauthenticator', 'url': 'https://...\n",
       "26  {'name': 'team-compass', 'url': 'https://githu...>"
      ]
     },
     "execution_count": 25,
     "metadata": {},
     "output_type": "execute_result"
    }
   ],
   "source": [
    "df.sort_index"
   ]
  },
  {
   "cell_type": "code",
   "execution_count": 26,
   "metadata": {},
   "outputs": [],
   "source": [
    "# output data to a csv\n",
    "# df.to_csv('issue_data.csv')"
   ]
  }
 ],
 "metadata": {
  "kernelspec": {
   "display_name": "Python 3",
   "language": "python",
   "name": "python3"
  },
  "language_info": {
   "codemirror_mode": {
    "name": "ipython",
    "version": 3
   },
   "file_extension": ".py",
   "mimetype": "text/x-python",
   "name": "python",
   "nbconvert_exporter": "python",
   "pygments_lexer": "ipython3",
   "version": "3.6.3"
  }
 },
 "nbformat": 4,
 "nbformat_minor": 2
}
