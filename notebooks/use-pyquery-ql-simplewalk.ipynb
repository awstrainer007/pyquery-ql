{
 "cells": [
  {
   "cell_type": "markdown",
   "metadata": {},
   "source": [
    "# Use pyquery-ql.py\n",
    "\n",
    "Send a graphql query to GitHub\n",
    "and pretty print output.\n",
    "\n",
    "Supports Python 3.6+"
   ]
  },
  {
   "cell_type": "code",
   "execution_count": 1,
   "metadata": {},
   "outputs": [],
   "source": [
    "import json\n",
    "import os\n",
    "import pprint\n",
    "\n",
    "import requests"
   ]
  },
  {
   "cell_type": "code",
   "execution_count": 2,
   "metadata": {},
   "outputs": [],
   "source": [
    "# get api token and set authorization\n",
    "api_token = os.environ['GITHUB_API_TOKEN']\n",
    "headers = {'Authorization': f'token {api_token}'}"
   ]
  },
  {
   "cell_type": "code",
   "execution_count": 3,
   "metadata": {},
   "outputs": [],
   "source": [
    "# set url to a graphql endpoint\n",
    "url = 'https://api.github.com/graphql'"
   ]
  },
  {
   "cell_type": "code",
   "execution_count": 4,
   "metadata": {},
   "outputs": [],
   "source": [
    "# add a json query\n",
    "query = \"\"\"\n",
    "{\n",
    "  organization(login: \"jupyterhub\") {\n",
    "    repositories(first: 30) {\n",
    "      totalCount\n",
    "      edges {\n",
    "        node {\n",
    "          name\n",
    "          url\n",
    "          issues(states: OPEN) {\n",
    "            totalCount\n",
    "          }\n",
    "          pullRequests(states: OPEN) {\n",
    "            totalCount\n",
    "          }\n",
    "        }\n",
    "      }\n",
    "    }\n",
    "  }\n",
    "}\n",
    "\"\"\""
   ]
  },
  {
   "cell_type": "code",
   "execution_count": 5,
   "metadata": {},
   "outputs": [],
   "source": [
    "# submit the request\n",
    "r = requests.post(url=url, json={'query': query}, headers=headers)"
   ]
  },
  {
   "cell_type": "code",
   "execution_count": 6,
   "metadata": {},
   "outputs": [],
   "source": [
    "with open('data.json', 'w') as f:\n",
    "    json.dump(r.json(), f)"
   ]
  },
  {
   "cell_type": "code",
   "execution_count": 7,
   "metadata": {},
   "outputs": [],
   "source": [
    "my_results = r.json()"
   ]
  },
  {
   "cell_type": "code",
   "execution_count": 8,
   "metadata": {},
   "outputs": [],
   "source": [
    "my_list_nodes = my_results['data']['organization']['repositories']['edges']"
   ]
  },
  {
   "cell_type": "code",
   "execution_count": 9,
   "metadata": {},
   "outputs": [],
   "source": [
    "unpacked = []\n",
    "for node in my_list_nodes:\n",
    "    unpacked.append(node['node'])"
   ]
  },
  {
   "cell_type": "code",
   "execution_count": 10,
   "metadata": {},
   "outputs": [],
   "source": [
    "headers = ['name', 'url', 'issues', 'prs']\n",
    "\n",
    "rows = []\n",
    "for obj in unpacked:\n",
    "    new_dict = {'name':obj['name'], 'url':obj['url'], 'issues':obj['issues']['totalCount'], 'prs':obj['pullRequests']['totalCount']}\n",
    "    rows.append(new_dict)"
   ]
  },
  {
   "cell_type": "code",
   "execution_count": 11,
   "metadata": {},
   "outputs": [],
   "source": [
    "import csv\n",
    "\n",
    "with open('mydata.csv', 'w') as f:\n",
    "    f_csv = csv.DictWriter(f, headers)\n",
    "    f_csv.writeheader()\n",
    "    f_csv.writerows(rows)"
   ]
  },
  {
   "cell_type": "code",
   "execution_count": 12,
   "metadata": {},
   "outputs": [
    {
     "name": "stdout",
     "output_type": "stream",
     "text": [
      "[{'issues': 141,\n",
      "  'name': 'jupyterhub',\n",
      "  'prs': 6,\n",
      "  'url': 'https://github.com/jupyterhub/jupyterhub'},\n",
      " {'issues': 11,\n",
      "  'name': 'configurable-http-proxy',\n",
      "  'prs': 0,\n",
      "  'url': 'https://github.com/jupyterhub/configurable-http-proxy'},\n",
      " {'issues': 13,\n",
      "  'name': 'oauthenticator',\n",
      "  'prs': 2,\n",
      "  'url': 'https://github.com/jupyterhub/oauthenticator'},\n",
      " {'issues': 22,\n",
      "  'name': 'dockerspawner',\n",
      "  'prs': 1,\n",
      "  'url': 'https://github.com/jupyterhub/dockerspawner'},\n",
      " {'issues': 2,\n",
      "  'name': 'sudospawner',\n",
      "  'prs': 0,\n",
      "  'url': 'https://github.com/jupyterhub/sudospawner'},\n",
      " {'issues': 12,\n",
      "  'name': 'batchspawner',\n",
      "  'prs': 5,\n",
      "  'url': 'https://github.com/jupyterhub/batchspawner'},\n",
      " {'issues': 25,\n",
      "  'name': 'kubespawner',\n",
      "  'prs': 3,\n",
      "  'url': 'https://github.com/jupyterhub/kubespawner'},\n",
      " {'issues': 18,\n",
      "  'name': 'ldapauthenticator',\n",
      "  'prs': 2,\n",
      "  'url': 'https://github.com/jupyterhub/ldapauthenticator'},\n",
      " {'issues': 9,\n",
      "  'name': 'jupyterhub-deploy-docker',\n",
      "  'prs': 1,\n",
      "  'url': 'https://github.com/jupyterhub/jupyterhub-deploy-docker'},\n",
      " {'issues': 13,\n",
      "  'name': 'jupyterhub-deploy-teaching',\n",
      "  'prs': 2,\n",
      "  'url': 'https://github.com/jupyterhub/jupyterhub-deploy-teaching'},\n",
      " {'issues': 5,\n",
      "  'name': 'jupyterhub-tutorial',\n",
      "  'prs': 0,\n",
      "  'url': 'https://github.com/jupyterhub/jupyterhub-tutorial'},\n",
      " {'issues': 2,\n",
      "  'name': 'jupyterhub-deploy-hpc',\n",
      "  'prs': 0,\n",
      "  'url': 'https://github.com/jupyterhub/jupyterhub-deploy-hpc'},\n",
      " {'issues': 4,\n",
      "  'name': 'systemdspawner',\n",
      "  'prs': 2,\n",
      "  'url': 'https://github.com/jupyterhub/systemdspawner'},\n",
      " {'issues': 5,\n",
      "  'name': 'wrapspawner',\n",
      "  'prs': 1,\n",
      "  'url': 'https://github.com/jupyterhub/wrapspawner'},\n",
      " {'issues': 4,\n",
      "  'name': 'jupyterlab-hub',\n",
      "  'prs': 0,\n",
      "  'url': 'https://github.com/jupyterhub/jupyterlab-hub'},\n",
      " {'issues': 2,\n",
      "  'name': 'nbserverproxy',\n",
      "  'prs': 1,\n",
      "  'url': 'https://github.com/jupyterhub/nbserverproxy'},\n",
      " {'issues': 3,\n",
      "  'name': 'jupyterhub-example-kerberos',\n",
      "  'prs': 0,\n",
      "  'url': 'https://github.com/jupyterhub/jupyterhub-example-kerberos'},\n",
      " {'issues': 10,\n",
      "  'name': 'hubshare',\n",
      "  'prs': 0,\n",
      "  'url': 'https://github.com/jupyterhub/hubshare'},\n",
      " {'issues': 4,\n",
      "  'name': 'nbrsessionproxy',\n",
      "  'prs': 2,\n",
      "  'url': 'https://github.com/jupyterhub/nbrsessionproxy'},\n",
      " {'issues': 0,\n",
      "  'name': 'tmpauthenticator',\n",
      "  'prs': 0,\n",
      "  'url': 'https://github.com/jupyterhub/tmpauthenticator'},\n",
      " {'issues': 89,\n",
      "  'name': 'zero-to-jupyterhub-k8s',\n",
      "  'prs': 3,\n",
      "  'url': 'https://github.com/jupyterhub/zero-to-jupyterhub-k8s'},\n",
      " {'issues': 3,\n",
      "  'name': 'helm-chart',\n",
      "  'prs': 2,\n",
      "  'url': 'https://github.com/jupyterhub/helm-chart'},\n",
      " {'issues': 79,\n",
      "  'name': 'binderhub',\n",
      "  'prs': 6,\n",
      "  'url': 'https://github.com/jupyterhub/binderhub'},\n",
      " {'issues': 25,\n",
      "  'name': 'mybinder.org-deploy',\n",
      "  'prs': 1,\n",
      "  'url': 'https://github.com/jupyterhub/mybinder.org-deploy'},\n",
      " {'issues': 9,\n",
      "  'name': 'binder',\n",
      "  'prs': 1,\n",
      "  'url': 'https://github.com/jupyterhub/binder'},\n",
      " {'issues': 0,\n",
      "  'name': 'nullauthenticator',\n",
      "  'prs': 0,\n",
      "  'url': 'https://github.com/jupyterhub/nullauthenticator'},\n",
      " {'issues': 2,\n",
      "  'name': 'team-compass',\n",
      "  'prs': 0,\n",
      "  'url': 'https://github.com/jupyterhub/team-compass'}]\n"
     ]
    }
   ],
   "source": [
    "import pprint\n",
    "pprint.pprint(rows)"
   ]
  },
  {
   "cell_type": "code",
   "execution_count": 13,
   "metadata": {},
   "outputs": [
    {
     "name": "stdout",
     "output_type": "stream",
     "text": [
      "name                               url                                                          issues   prs     \n",
      "jupyterhub                     https://github.com/jupyterhub/jupyterhub                          141        6\n",
      "configurable-http-proxy        https://github.com/jupyterhub/configurable-http-proxy              11        0\n",
      "oauthenticator                 https://github.com/jupyterhub/oauthenticator                       13        2\n",
      "dockerspawner                  https://github.com/jupyterhub/dockerspawner                        22        1\n",
      "sudospawner                    https://github.com/jupyterhub/sudospawner                           2        0\n",
      "batchspawner                   https://github.com/jupyterhub/batchspawner                         12        5\n",
      "kubespawner                    https://github.com/jupyterhub/kubespawner                          25        3\n",
      "ldapauthenticator              https://github.com/jupyterhub/ldapauthenticator                    18        2\n",
      "jupyterhub-deploy-docker       https://github.com/jupyterhub/jupyterhub-deploy-docker              9        1\n",
      "jupyterhub-deploy-teaching     https://github.com/jupyterhub/jupyterhub-deploy-teaching           13        2\n",
      "jupyterhub-tutorial            https://github.com/jupyterhub/jupyterhub-tutorial                   5        0\n",
      "jupyterhub-deploy-hpc          https://github.com/jupyterhub/jupyterhub-deploy-hpc                 2        0\n",
      "systemdspawner                 https://github.com/jupyterhub/systemdspawner                        4        2\n",
      "wrapspawner                    https://github.com/jupyterhub/wrapspawner                           5        1\n",
      "jupyterlab-hub                 https://github.com/jupyterhub/jupyterlab-hub                        4        0\n",
      "nbserverproxy                  https://github.com/jupyterhub/nbserverproxy                         2        1\n",
      "jupyterhub-example-kerberos    https://github.com/jupyterhub/jupyterhub-example-kerberos           3        0\n",
      "hubshare                       https://github.com/jupyterhub/hubshare                             10        0\n",
      "nbrsessionproxy                https://github.com/jupyterhub/nbrsessionproxy                       4        2\n",
      "tmpauthenticator               https://github.com/jupyterhub/tmpauthenticator                      0        0\n",
      "zero-to-jupyterhub-k8s         https://github.com/jupyterhub/zero-to-jupyterhub-k8s               89        3\n",
      "helm-chart                     https://github.com/jupyterhub/helm-chart                            3        2\n",
      "binderhub                      https://github.com/jupyterhub/binderhub                            79        6\n",
      "mybinder.org-deploy            https://github.com/jupyterhub/mybinder.org-deploy                  25        1\n",
      "binder                         https://github.com/jupyterhub/binder                                9        1\n",
      "nullauthenticator              https://github.com/jupyterhub/nullauthenticator                     0        0\n",
      "team-compass                   https://github.com/jupyterhub/team-compass                          2        0\n"
     ]
    }
   ],
   "source": [
    "print(f\"{'name':34} {'url':60} {'issues':8} {'prs':8}\")\n",
    "for obj in unpacked:\n",
    "    print(f\"{obj['name']:30} {obj['url']:60} {obj['issues']['totalCount']:8} {obj['pullRequests']['totalCount']:8}\")"
   ]
  },
  {
   "cell_type": "markdown",
   "metadata": {},
   "source": [
    "Bring into pandas"
   ]
  },
  {
   "cell_type": "code",
   "execution_count": 14,
   "metadata": {},
   "outputs": [],
   "source": [
    "import pandas as pd"
   ]
  },
  {
   "cell_type": "code",
   "execution_count": 15,
   "metadata": {},
   "outputs": [],
   "source": [
    "#df = pd.DataFrame.from_records(unpacked)\n",
    "df = pd.read_json('data.json')"
   ]
  },
  {
   "cell_type": "code",
   "execution_count": 16,
   "metadata": {},
   "outputs": [
    {
     "data": {
      "text/plain": [
       "Index(['data'], dtype='object')"
      ]
     },
     "execution_count": 16,
     "metadata": {},
     "output_type": "execute_result"
    }
   ],
   "source": [
    "df.columns"
   ]
  },
  {
   "cell_type": "code",
   "execution_count": 17,
   "metadata": {},
   "outputs": [
    {
     "data": {
      "text/html": [
       "<div>\n",
       "<style scoped>\n",
       "    .dataframe tbody tr th:only-of-type {\n",
       "        vertical-align: middle;\n",
       "    }\n",
       "\n",
       "    .dataframe tbody tr th {\n",
       "        vertical-align: top;\n",
       "    }\n",
       "\n",
       "    .dataframe thead th {\n",
       "        text-align: right;\n",
       "    }\n",
       "</style>\n",
       "<table border=\"1\" class=\"dataframe\">\n",
       "  <thead>\n",
       "    <tr style=\"text-align: right;\">\n",
       "      <th></th>\n",
       "      <th>data</th>\n",
       "    </tr>\n",
       "  </thead>\n",
       "  <tbody>\n",
       "    <tr>\n",
       "      <th>organization</th>\n",
       "      <td>{'repositories': {'totalCount': 27, 'edges': [...</td>\n",
       "    </tr>\n",
       "  </tbody>\n",
       "</table>\n",
       "</div>"
      ],
      "text/plain": [
       "                                                           data\n",
       "organization  {'repositories': {'totalCount': 27, 'edges': [..."
      ]
     },
     "execution_count": 17,
     "metadata": {},
     "output_type": "execute_result"
    }
   ],
   "source": [
    "df.head()"
   ]
  },
  {
   "cell_type": "markdown",
   "metadata": {},
   "source": [
    "Generate basic report of total open issues"
   ]
  },
  {
   "cell_type": "code",
   "execution_count": 18,
   "metadata": {},
   "outputs": [
    {
     "data": {
      "text/plain": [
       "data    object\n",
       "dtype: object"
      ]
     },
     "execution_count": 18,
     "metadata": {},
     "output_type": "execute_result"
    }
   ],
   "source": [
    "df.dtypes"
   ]
  },
  {
   "cell_type": "code",
   "execution_count": 19,
   "metadata": {},
   "outputs": [
    {
     "data": {
      "text/html": [
       "<div>\n",
       "<style scoped>\n",
       "    .dataframe tbody tr th:only-of-type {\n",
       "        vertical-align: middle;\n",
       "    }\n",
       "\n",
       "    .dataframe tbody tr th {\n",
       "        vertical-align: top;\n",
       "    }\n",
       "\n",
       "    .dataframe thead th {\n",
       "        text-align: right;\n",
       "    }\n",
       "</style>\n",
       "<table border=\"1\" class=\"dataframe\">\n",
       "  <thead>\n",
       "    <tr style=\"text-align: right;\">\n",
       "      <th></th>\n",
       "      <th>data</th>\n",
       "    </tr>\n",
       "  </thead>\n",
       "  <tbody>\n",
       "    <tr>\n",
       "      <th>organization</th>\n",
       "      <td>{'repositories': {'totalCount': 27, 'edges': [...</td>\n",
       "    </tr>\n",
       "  </tbody>\n",
       "</table>\n",
       "</div>"
      ],
      "text/plain": [
       "                                                           data\n",
       "organization  {'repositories': {'totalCount': 27, 'edges': [..."
      ]
     },
     "execution_count": 19,
     "metadata": {},
     "output_type": "execute_result"
    }
   ],
   "source": [
    "df.head()"
   ]
  },
  {
   "cell_type": "code",
   "execution_count": 20,
   "metadata": {},
   "outputs": [
    {
     "data": {
      "text/plain": [
       "Index(['organization'], dtype='object')"
      ]
     },
     "execution_count": 20,
     "metadata": {},
     "output_type": "execute_result"
    }
   ],
   "source": [
    "df.index"
   ]
  },
  {
   "cell_type": "code",
   "execution_count": 21,
   "metadata": {},
   "outputs": [
    {
     "data": {
      "text/plain": [
       "Index(['data'], dtype='object')"
      ]
     },
     "execution_count": 21,
     "metadata": {},
     "output_type": "execute_result"
    }
   ],
   "source": [
    "df.columns"
   ]
  },
  {
   "cell_type": "code",
   "execution_count": 22,
   "metadata": {},
   "outputs": [
    {
     "data": {
      "text/plain": [
       "array([[ {'repositories': {'totalCount': 27, 'edges': [{'node': {'name': 'jupyterhub', 'url': 'https://github.com/jupyterhub/jupyterhub', 'issues': {'totalCount': 141}, 'pullRequests': {'totalCount': 6}}}, {'node': {'name': 'configurable-http-proxy', 'url': 'https://github.com/jupyterhub/configurable-http-proxy', 'issues': {'totalCount': 11}, 'pullRequests': {'totalCount': 0}}}, {'node': {'name': 'oauthenticator', 'url': 'https://github.com/jupyterhub/oauthenticator', 'issues': {'totalCount': 13}, 'pullRequests': {'totalCount': 2}}}, {'node': {'name': 'dockerspawner', 'url': 'https://github.com/jupyterhub/dockerspawner', 'issues': {'totalCount': 22}, 'pullRequests': {'totalCount': 1}}}, {'node': {'name': 'sudospawner', 'url': 'https://github.com/jupyterhub/sudospawner', 'issues': {'totalCount': 2}, 'pullRequests': {'totalCount': 0}}}, {'node': {'name': 'batchspawner', 'url': 'https://github.com/jupyterhub/batchspawner', 'issues': {'totalCount': 12}, 'pullRequests': {'totalCount': 5}}}, {'node': {'name': 'kubespawner', 'url': 'https://github.com/jupyterhub/kubespawner', 'issues': {'totalCount': 25}, 'pullRequests': {'totalCount': 3}}}, {'node': {'name': 'ldapauthenticator', 'url': 'https://github.com/jupyterhub/ldapauthenticator', 'issues': {'totalCount': 18}, 'pullRequests': {'totalCount': 2}}}, {'node': {'name': 'jupyterhub-deploy-docker', 'url': 'https://github.com/jupyterhub/jupyterhub-deploy-docker', 'issues': {'totalCount': 9}, 'pullRequests': {'totalCount': 1}}}, {'node': {'name': 'jupyterhub-deploy-teaching', 'url': 'https://github.com/jupyterhub/jupyterhub-deploy-teaching', 'issues': {'totalCount': 13}, 'pullRequests': {'totalCount': 2}}}, {'node': {'name': 'jupyterhub-tutorial', 'url': 'https://github.com/jupyterhub/jupyterhub-tutorial', 'issues': {'totalCount': 5}, 'pullRequests': {'totalCount': 0}}}, {'node': {'name': 'jupyterhub-deploy-hpc', 'url': 'https://github.com/jupyterhub/jupyterhub-deploy-hpc', 'issues': {'totalCount': 2}, 'pullRequests': {'totalCount': 0}}}, {'node': {'name': 'systemdspawner', 'url': 'https://github.com/jupyterhub/systemdspawner', 'issues': {'totalCount': 4}, 'pullRequests': {'totalCount': 2}}}, {'node': {'name': 'wrapspawner', 'url': 'https://github.com/jupyterhub/wrapspawner', 'issues': {'totalCount': 5}, 'pullRequests': {'totalCount': 1}}}, {'node': {'name': 'jupyterlab-hub', 'url': 'https://github.com/jupyterhub/jupyterlab-hub', 'issues': {'totalCount': 4}, 'pullRequests': {'totalCount': 0}}}, {'node': {'name': 'nbserverproxy', 'url': 'https://github.com/jupyterhub/nbserverproxy', 'issues': {'totalCount': 2}, 'pullRequests': {'totalCount': 1}}}, {'node': {'name': 'jupyterhub-example-kerberos', 'url': 'https://github.com/jupyterhub/jupyterhub-example-kerberos', 'issues': {'totalCount': 3}, 'pullRequests': {'totalCount': 0}}}, {'node': {'name': 'hubshare', 'url': 'https://github.com/jupyterhub/hubshare', 'issues': {'totalCount': 10}, 'pullRequests': {'totalCount': 0}}}, {'node': {'name': 'nbrsessionproxy', 'url': 'https://github.com/jupyterhub/nbrsessionproxy', 'issues': {'totalCount': 4}, 'pullRequests': {'totalCount': 2}}}, {'node': {'name': 'tmpauthenticator', 'url': 'https://github.com/jupyterhub/tmpauthenticator', 'issues': {'totalCount': 0}, 'pullRequests': {'totalCount': 0}}}, {'node': {'name': 'zero-to-jupyterhub-k8s', 'url': 'https://github.com/jupyterhub/zero-to-jupyterhub-k8s', 'issues': {'totalCount': 89}, 'pullRequests': {'totalCount': 3}}}, {'node': {'name': 'helm-chart', 'url': 'https://github.com/jupyterhub/helm-chart', 'issues': {'totalCount': 3}, 'pullRequests': {'totalCount': 2}}}, {'node': {'name': 'binderhub', 'url': 'https://github.com/jupyterhub/binderhub', 'issues': {'totalCount': 79}, 'pullRequests': {'totalCount': 6}}}, {'node': {'name': 'mybinder.org-deploy', 'url': 'https://github.com/jupyterhub/mybinder.org-deploy', 'issues': {'totalCount': 25}, 'pullRequests': {'totalCount': 1}}}, {'node': {'name': 'binder', 'url': 'https://github.com/jupyterhub/binder', 'issues': {'totalCount': 9}, 'pullRequests': {'totalCount': 1}}}, {'node': {'name': 'nullauthenticator', 'url': 'https://github.com/jupyterhub/nullauthenticator', 'issues': {'totalCount': 0}, 'pullRequests': {'totalCount': 0}}}, {'node': {'name': 'team-compass', 'url': 'https://github.com/jupyterhub/team-compass', 'issues': {'totalCount': 2}, 'pullRequests': {'totalCount': 0}}}]}}]], dtype=object)"
      ]
     },
     "execution_count": 22,
     "metadata": {},
     "output_type": "execute_result"
    }
   ],
   "source": [
    "df.values"
   ]
  },
  {
   "cell_type": "code",
   "execution_count": 23,
   "metadata": {},
   "outputs": [
    {
     "data": {
      "text/plain": [
       "<bound method NDFrame.describe of                                                            data\n",
       "organization  {'repositories': {'totalCount': 27, 'edges': [...>"
      ]
     },
     "execution_count": 23,
     "metadata": {},
     "output_type": "execute_result"
    }
   ],
   "source": [
    "df.describe"
   ]
  },
  {
   "cell_type": "code",
   "execution_count": 24,
   "metadata": {},
   "outputs": [],
   "source": [
    "# output data to a csv\n",
    "# df.to_csv('issue_data.csv')"
   ]
  }
 ],
 "metadata": {
  "kernelspec": {
   "display_name": "Python 3",
   "language": "python",
   "name": "python3"
  },
  "language_info": {
   "codemirror_mode": {
    "name": "ipython",
    "version": 3
   },
   "file_extension": ".py",
   "mimetype": "text/x-python",
   "name": "python",
   "nbconvert_exporter": "python",
   "pygments_lexer": "ipython3",
   "version": "3.6.3"
  }
 },
 "nbformat": 4,
 "nbformat_minor": 2
}
