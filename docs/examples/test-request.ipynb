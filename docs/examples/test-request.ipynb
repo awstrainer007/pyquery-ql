{
 "cells": [
  {
   "cell_type": "markdown",
   "metadata": {},
   "source": [
    "# test-request"
   ]
  },
  {
   "cell_type": "code",
   "execution_count": 1,
   "metadata": {},
   "outputs": [],
   "source": [
    "import csv\n",
    "import json\n",
    "import os\n",
    "import pprint\n",
    "\n",
    "import pandas as pd\n",
    "import requests"
   ]
  },
  {
   "cell_type": "code",
   "execution_count": 2,
   "metadata": {},
   "outputs": [],
   "source": [
    "# get api token and set authorization\n",
    "api_token = os.environ['GITHUB_API_TOKEN']\n",
    "headers = {'Authorization': f'token {api_token}'}"
   ]
  },
  {
   "cell_type": "code",
   "execution_count": 3,
   "metadata": {},
   "outputs": [],
   "source": [
    "# set url to a graphql endpoint\n",
    "url = 'https://api.github.com/graphql'"
   ]
  },
  {
   "cell_type": "code",
   "execution_count": 4,
   "metadata": {},
   "outputs": [],
   "source": [
    "# add a json query\n",
    "query = \"\"\"\n",
    "{\n",
    "  organization(login: \"jupyterhub\") {\n",
    "    name\n",
    "    repository(name: \"binderhub\") {\n",
    "        name\n",
    "        issues(last: 5) {\n",
    "          edges {\n",
    "            node {\n",
    "              number\n",
    "              title\n",
    "            }\n",
    "          }\n",
    "        }    \n",
    "    }\n",
    "  }\n",
    "}\n",
    "\"\"\""
   ]
  },
  {
   "cell_type": "code",
   "execution_count": 13,
   "metadata": {},
   "outputs": [],
   "source": [
    "# submit the request\n",
    "r = requests.post(url=url, json={'query': query}, headers=headers)"
   ]
  },
  {
   "cell_type": "code",
   "execution_count": 14,
   "metadata": {},
   "outputs": [
    {
     "data": {
      "text/plain": [
       "{'data': {'organization': {'name': 'JupyterHub',\n",
       "   'repository': {'issues': {'edges': [{'node': {'number': 344,\n",
       "        'title': 'Improve CONTRIBUTING.md'}},\n",
       "      {'node': {'number': 345,\n",
       "        'title': 'Upgrade to kubernetes client version 4.0'}},\n",
       "      {'node': {'number': 349,\n",
       "        'title': 'race condition mounting docker-in-docker socket in build'}},\n",
       "      {'node': {'number': 350,\n",
       "        'title': 'Consider *not* launching automatically'}},\n",
       "      {'node': {'number': 351, 'title': 'Awesome bar functionality'}}]},\n",
       "    'name': 'binderhub'}}}}"
      ]
     },
     "execution_count": 14,
     "metadata": {},
     "output_type": "execute_result"
    }
   ],
   "source": [
    "binderhub = r.json()\n",
    "binderhub"
   ]
  },
  {
   "cell_type": "code",
   "execution_count": 7,
   "metadata": {},
   "outputs": [
    {
     "data": {
      "text/plain": [
       "[{'node': {'number': 344, 'title': 'Improve CONTRIBUTING.md'}},\n",
       " {'node': {'number': 345,\n",
       "   'title': 'Upgrade to kubernetes client version 4.0'}},\n",
       " {'node': {'number': 349,\n",
       "   'title': 'race condition mounting docker-in-docker socket in build'}},\n",
       " {'node': {'number': 350, 'title': 'Consider *not* launching automatically'}},\n",
       " {'node': {'number': 351, 'title': 'Awesome bar functionality'}}]"
      ]
     },
     "execution_count": 7,
     "metadata": {},
     "output_type": "execute_result"
    }
   ],
   "source": [
    "issue_list = binderhub['data']['organization']['repository']['issues']['edges']\n",
    "issue_list"
   ]
  },
  {
   "cell_type": "markdown",
   "metadata": {},
   "source": [
    "## Report: Last 5 issues for a repo"
   ]
  },
  {
   "cell_type": "code",
   "execution_count": 8,
   "metadata": {},
   "outputs": [
    {
     "name": "stdout",
     "output_type": "stream",
     "text": [
      "binderhub: last five issues submitted\n",
      "   344  Improve CONTRIBUTING.md       \n",
      "   345  Upgrade to kubernetes client version 4.0\n",
      "   349  race condition mounting docker-in-docker socket in build\n",
      "   350  Consider *not* launching automatically\n",
      "   351  Awesome bar functionality     \n"
     ]
    }
   ],
   "source": [
    "print(f\"{binderhub['data']['organization']['repository']['name']}: last five issues submitted\")\n",
    "for issue in issue_list:\n",
    "    print(f\"{issue['node']['number']:6}  {issue['node']['title']:30}\")"
   ]
  },
  {
   "cell_type": "markdown",
   "metadata": {},
   "source": [
    "Let's try another repo\n",
    "- make it a little more generic using `response` as a variable\n",
    "- select last 10 issues "
   ]
  },
  {
   "cell_type": "code",
   "execution_count": 9,
   "metadata": {},
   "outputs": [],
   "source": [
    "# add a json query\n",
    "query = \"\"\"\n",
    "{\n",
    "  organization(login: \"jupyterhub\") {\n",
    "    name\n",
    "    repository(name: \"jupyterhub\") {\n",
    "        name\n",
    "        issues(last: 10) {\n",
    "          edges {\n",
    "            node {\n",
    "              number\n",
    "              title\n",
    "            }\n",
    "          }\n",
    "        }    \n",
    "    }\n",
    "  }\n",
    "}\n",
    "\"\"\"\n",
    "r = requests.post(url=url, json={'query': query}, headers=headers)\n",
    "response = r.json()\n",
    "issue_list = response['data']['organization']['repository']['issues']['edges']"
   ]
  },
  {
   "cell_type": "code",
   "execution_count": 10,
   "metadata": {},
   "outputs": [
    {
     "name": "stdout",
     "output_type": "stream",
     "text": [
      "jupyterhub: last 10 issues submitted\n",
      "  1573  more activity tracking        \n",
      "  1574  Jupyter cannot find Three.Js files - URL redirection not working *updated*\n",
      "  1576  anchor links on markdown docs pages are unreliable\n",
      "  1579  LocalAuthenticator question   \n",
      "  1580  Specify Kubernetes volume claims in Jupyterhub spawner\n",
      "  1582  Jupyterhub shared service error\n",
      "  1583  c.JupyterHub.logo_file is not working on after Jupyterhub Version: 0.8.1 upgrade\n",
      "  1584  config c.LocalProcessSpawner.mem_limit Issue\n",
      "  1585  Prometheus metrics to add to JupyterHub\n",
      "  1586  Errno 8: Nodename nor servname provided\n"
     ]
    }
   ],
   "source": [
    "print(f\"{response['data']['organization']['repository']['name']}: last 10 issues submitted\")\n",
    "for issue in issue_list:\n",
    "    print(f\"{issue['node']['number']:6}  {issue['node']['title']:30}\")"
   ]
  },
  {
   "cell_type": "code",
   "execution_count": null,
   "metadata": {},
   "outputs": [],
   "source": []
  }
 ],
 "metadata": {
  "kernelspec": {
   "display_name": "Python 3",
   "language": "python",
   "name": "python3"
  },
  "language_info": {
   "codemirror_mode": {
    "name": "ipython",
    "version": 3
   },
   "file_extension": ".py",
   "mimetype": "text/x-python",
   "name": "python",
   "nbconvert_exporter": "python",
   "pygments_lexer": "ipython3",
   "version": "3.6.3"
  }
 },
 "nbformat": 4,
 "nbformat_minor": 2
}
